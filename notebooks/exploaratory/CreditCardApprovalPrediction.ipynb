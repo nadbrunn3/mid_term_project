{
 "cells": [
  {
   "cell_type": "markdown",
   "id": "df60779c-a87f-4885-9b49-2e1ee1e39c70",
   "metadata": {},
   "source": [
    "# Credit Card Approval Prediction\n"
   ]
  },
  {
   "cell_type": "markdown",
   "id": "2d9fd7a0-f5af-4c74-8a3b-ed082bae3c0c",
   "metadata": {},
   "source": [
    "## Context\n",
    "\n",
    "Credit score cards are a common risk control method in the financial industry. It uses personal information and data submitted by credit card applicants to predict the probability of future defaults and credit card borrowings. The bank is able to decide whether to issue a credit card to the applicant. Credit scores can objectively quantify the magnitude of risk.\n",
    "\n",
    "Generally speaking, credit score cards are based on historical data. Once encountering large economic fluctuations. Past models may lose their original predictive power. Logistic model is a common method for credit scoring. Because Logistic is suitable for binary classification tasks and can calculate the coefficients of each feature. In order to facilitate understanding and operation, the score card will multiply the logistic regression coefficient by a certain value (such as 100) and round it.\n",
    "\n",
    "At present, with the development of machine learning algorithms. More predictive methods such as Boosting, Random Forest, and Support Vector Machines have been introduced into credit card scoring. However, these methods often do not have good transparency. It may be difficult to provide customers and regulators with a reason for rejection or acceptance.\n",
    "\n",
    "## Task\n",
    "\n",
    "Build a machine learning model to predict if an applicant is 'good' or 'bad' client, different from other tasks, the definition of 'good' or 'bad' is not given. You should use some techique, such as vintage analysis to construct you label. Also, unbalance data problem is a big problem in this task."
   ]
  },
  {
   "cell_type": "code",
   "execution_count": 1420,
   "id": "47169bf9-f7c3-4331-b0ef-86a93a3ee838",
   "metadata": {},
   "outputs": [],
   "source": [
    "import pandas as pd\n",
    "import numpy as np\n",
    "import seaborn as sns\n",
    "import matplotlib.pyplot as plt"
   ]
  },
  {
   "cell_type": "code",
   "execution_count": 1421,
   "id": "559f3652-f59e-465d-b729-a10b8ed93cb2",
   "metadata": {},
   "outputs": [],
   "source": [
    "# There are 2 datasets \n",
    "\n",
    "# 1. application records (contains all information about the applicants)\n",
    "\n",
    "application_records = pd.read_csv('../../data/raw/application_record.csv')\n",
    "\n",
    "# 2. credit records (contains information about the loan and depth)\n",
    "\n",
    "credit_records = pd.read_csv('../../data/raw/credit_record.csv')"
   ]
  },
  {
   "cell_type": "markdown",
   "id": "25a29d72-7c3e-468f-95a5-baa726fd5c0a",
   "metadata": {},
   "source": [
    "# 1. Exploratory Data Analysis"
   ]
  },
  {
   "cell_type": "code",
   "execution_count": 1422,
   "id": "c9aaf393-9399-439c-bba1-57cd24e5b4a7",
   "metadata": {},
   "outputs": [
    {
     "data": {
      "text/html": [
       "<div>\n",
       "<style scoped>\n",
       "    .dataframe tbody tr th:only-of-type {\n",
       "        vertical-align: middle;\n",
       "    }\n",
       "\n",
       "    .dataframe tbody tr th {\n",
       "        vertical-align: top;\n",
       "    }\n",
       "\n",
       "    .dataframe thead th {\n",
       "        text-align: right;\n",
       "    }\n",
       "</style>\n",
       "<table border=\"1\" class=\"dataframe\">\n",
       "  <thead>\n",
       "    <tr style=\"text-align: right;\">\n",
       "      <th></th>\n",
       "      <th>ID</th>\n",
       "      <th>CODE_GENDER</th>\n",
       "      <th>FLAG_OWN_CAR</th>\n",
       "      <th>FLAG_OWN_REALTY</th>\n",
       "      <th>CNT_CHILDREN</th>\n",
       "      <th>AMT_INCOME_TOTAL</th>\n",
       "      <th>NAME_INCOME_TYPE</th>\n",
       "      <th>NAME_EDUCATION_TYPE</th>\n",
       "      <th>NAME_FAMILY_STATUS</th>\n",
       "      <th>NAME_HOUSING_TYPE</th>\n",
       "      <th>DAYS_BIRTH</th>\n",
       "      <th>DAYS_EMPLOYED</th>\n",
       "      <th>FLAG_MOBIL</th>\n",
       "      <th>FLAG_WORK_PHONE</th>\n",
       "      <th>FLAG_PHONE</th>\n",
       "      <th>FLAG_EMAIL</th>\n",
       "      <th>OCCUPATION_TYPE</th>\n",
       "      <th>CNT_FAM_MEMBERS</th>\n",
       "    </tr>\n",
       "  </thead>\n",
       "  <tbody>\n",
       "    <tr>\n",
       "      <th>0</th>\n",
       "      <td>5008804</td>\n",
       "      <td>M</td>\n",
       "      <td>Y</td>\n",
       "      <td>Y</td>\n",
       "      <td>0</td>\n",
       "      <td>427500.0</td>\n",
       "      <td>Working</td>\n",
       "      <td>Higher education</td>\n",
       "      <td>Civil marriage</td>\n",
       "      <td>Rented apartment</td>\n",
       "      <td>-12005</td>\n",
       "      <td>-4542</td>\n",
       "      <td>1</td>\n",
       "      <td>1</td>\n",
       "      <td>0</td>\n",
       "      <td>0</td>\n",
       "      <td>NaN</td>\n",
       "      <td>2.0</td>\n",
       "    </tr>\n",
       "    <tr>\n",
       "      <th>1</th>\n",
       "      <td>5008805</td>\n",
       "      <td>M</td>\n",
       "      <td>Y</td>\n",
       "      <td>Y</td>\n",
       "      <td>0</td>\n",
       "      <td>427500.0</td>\n",
       "      <td>Working</td>\n",
       "      <td>Higher education</td>\n",
       "      <td>Civil marriage</td>\n",
       "      <td>Rented apartment</td>\n",
       "      <td>-12005</td>\n",
       "      <td>-4542</td>\n",
       "      <td>1</td>\n",
       "      <td>1</td>\n",
       "      <td>0</td>\n",
       "      <td>0</td>\n",
       "      <td>NaN</td>\n",
       "      <td>2.0</td>\n",
       "    </tr>\n",
       "    <tr>\n",
       "      <th>2</th>\n",
       "      <td>5008806</td>\n",
       "      <td>M</td>\n",
       "      <td>Y</td>\n",
       "      <td>Y</td>\n",
       "      <td>0</td>\n",
       "      <td>112500.0</td>\n",
       "      <td>Working</td>\n",
       "      <td>Secondary / secondary special</td>\n",
       "      <td>Married</td>\n",
       "      <td>House / apartment</td>\n",
       "      <td>-21474</td>\n",
       "      <td>-1134</td>\n",
       "      <td>1</td>\n",
       "      <td>0</td>\n",
       "      <td>0</td>\n",
       "      <td>0</td>\n",
       "      <td>Security staff</td>\n",
       "      <td>2.0</td>\n",
       "    </tr>\n",
       "    <tr>\n",
       "      <th>3</th>\n",
       "      <td>5008808</td>\n",
       "      <td>F</td>\n",
       "      <td>N</td>\n",
       "      <td>Y</td>\n",
       "      <td>0</td>\n",
       "      <td>270000.0</td>\n",
       "      <td>Commercial associate</td>\n",
       "      <td>Secondary / secondary special</td>\n",
       "      <td>Single / not married</td>\n",
       "      <td>House / apartment</td>\n",
       "      <td>-19110</td>\n",
       "      <td>-3051</td>\n",
       "      <td>1</td>\n",
       "      <td>0</td>\n",
       "      <td>1</td>\n",
       "      <td>1</td>\n",
       "      <td>Sales staff</td>\n",
       "      <td>1.0</td>\n",
       "    </tr>\n",
       "    <tr>\n",
       "      <th>4</th>\n",
       "      <td>5008809</td>\n",
       "      <td>F</td>\n",
       "      <td>N</td>\n",
       "      <td>Y</td>\n",
       "      <td>0</td>\n",
       "      <td>270000.0</td>\n",
       "      <td>Commercial associate</td>\n",
       "      <td>Secondary / secondary special</td>\n",
       "      <td>Single / not married</td>\n",
       "      <td>House / apartment</td>\n",
       "      <td>-19110</td>\n",
       "      <td>-3051</td>\n",
       "      <td>1</td>\n",
       "      <td>0</td>\n",
       "      <td>1</td>\n",
       "      <td>1</td>\n",
       "      <td>Sales staff</td>\n",
       "      <td>1.0</td>\n",
       "    </tr>\n",
       "  </tbody>\n",
       "</table>\n",
       "</div>"
      ],
      "text/plain": [
       "        ID CODE_GENDER FLAG_OWN_CAR FLAG_OWN_REALTY  CNT_CHILDREN  \\\n",
       "0  5008804           M            Y               Y             0   \n",
       "1  5008805           M            Y               Y             0   \n",
       "2  5008806           M            Y               Y             0   \n",
       "3  5008808           F            N               Y             0   \n",
       "4  5008809           F            N               Y             0   \n",
       "\n",
       "   AMT_INCOME_TOTAL      NAME_INCOME_TYPE            NAME_EDUCATION_TYPE  \\\n",
       "0          427500.0               Working               Higher education   \n",
       "1          427500.0               Working               Higher education   \n",
       "2          112500.0               Working  Secondary / secondary special   \n",
       "3          270000.0  Commercial associate  Secondary / secondary special   \n",
       "4          270000.0  Commercial associate  Secondary / secondary special   \n",
       "\n",
       "     NAME_FAMILY_STATUS  NAME_HOUSING_TYPE  DAYS_BIRTH  DAYS_EMPLOYED  \\\n",
       "0        Civil marriage   Rented apartment      -12005          -4542   \n",
       "1        Civil marriage   Rented apartment      -12005          -4542   \n",
       "2               Married  House / apartment      -21474          -1134   \n",
       "3  Single / not married  House / apartment      -19110          -3051   \n",
       "4  Single / not married  House / apartment      -19110          -3051   \n",
       "\n",
       "   FLAG_MOBIL  FLAG_WORK_PHONE  FLAG_PHONE  FLAG_EMAIL OCCUPATION_TYPE  \\\n",
       "0           1                1           0           0             NaN   \n",
       "1           1                1           0           0             NaN   \n",
       "2           1                0           0           0  Security staff   \n",
       "3           1                0           1           1     Sales staff   \n",
       "4           1                0           1           1     Sales staff   \n",
       "\n",
       "   CNT_FAM_MEMBERS  \n",
       "0              2.0  \n",
       "1              2.0  \n",
       "2              2.0  \n",
       "3              1.0  \n",
       "4              1.0  "
      ]
     },
     "metadata": {},
     "output_type": "display_data"
    },
    {
     "data": {
      "text/html": [
       "<div>\n",
       "<style scoped>\n",
       "    .dataframe tbody tr th:only-of-type {\n",
       "        vertical-align: middle;\n",
       "    }\n",
       "\n",
       "    .dataframe tbody tr th {\n",
       "        vertical-align: top;\n",
       "    }\n",
       "\n",
       "    .dataframe thead th {\n",
       "        text-align: right;\n",
       "    }\n",
       "</style>\n",
       "<table border=\"1\" class=\"dataframe\">\n",
       "  <thead>\n",
       "    <tr style=\"text-align: right;\">\n",
       "      <th></th>\n",
       "      <th>ID</th>\n",
       "      <th>MONTHS_BALANCE</th>\n",
       "      <th>STATUS</th>\n",
       "    </tr>\n",
       "  </thead>\n",
       "  <tbody>\n",
       "    <tr>\n",
       "      <th>0</th>\n",
       "      <td>5001711</td>\n",
       "      <td>0</td>\n",
       "      <td>X</td>\n",
       "    </tr>\n",
       "    <tr>\n",
       "      <th>1</th>\n",
       "      <td>5001711</td>\n",
       "      <td>-1</td>\n",
       "      <td>0</td>\n",
       "    </tr>\n",
       "    <tr>\n",
       "      <th>2</th>\n",
       "      <td>5001711</td>\n",
       "      <td>-2</td>\n",
       "      <td>0</td>\n",
       "    </tr>\n",
       "    <tr>\n",
       "      <th>3</th>\n",
       "      <td>5001711</td>\n",
       "      <td>-3</td>\n",
       "      <td>0</td>\n",
       "    </tr>\n",
       "    <tr>\n",
       "      <th>4</th>\n",
       "      <td>5001712</td>\n",
       "      <td>0</td>\n",
       "      <td>C</td>\n",
       "    </tr>\n",
       "  </tbody>\n",
       "</table>\n",
       "</div>"
      ],
      "text/plain": [
       "        ID  MONTHS_BALANCE STATUS\n",
       "0  5001711               0      X\n",
       "1  5001711              -1      0\n",
       "2  5001711              -2      0\n",
       "3  5001711              -3      0\n",
       "4  5001712               0      C"
      ]
     },
     "metadata": {},
     "output_type": "display_data"
    }
   ],
   "source": [
    "display(application_records.head())\n",
    "display(credit_records.head())"
   ]
  },
  {
   "cell_type": "code",
   "execution_count": 1423,
   "id": "384513a7-7dbf-4c0d-9980-5a815db1227c",
   "metadata": {
    "tags": []
   },
   "outputs": [],
   "source": [
    "# Standardizing the column names for both files: \n",
    "\n",
    "def columns(x):\n",
    "    return x.lower()\n",
    "\n",
    "application_records.columns = list(map(columns, application_records.columns))\n",
    "credit_records.columns = list(map(columns, credit_records.columns))\n"
   ]
  },
  {
   "cell_type": "code",
   "execution_count": 1424,
   "id": "88a01a4e-273b-49d6-9b4d-02108dcccc22",
   "metadata": {},
   "outputs": [
    {
     "name": "stdout",
     "output_type": "stream",
     "text": [
      "Application Records = (438557, 18)\n",
      "Credit Records = (1048575, 3)\n"
     ]
    }
   ],
   "source": [
    "# Checking if the data of the two files match in length: \n",
    "\n",
    "print('Application Records = {}'.format(application_records.shape))\n",
    "print('Credit Records = {}'.format(credit_records.shape))\n",
    "\n",
    "#There is a big difference in data length in the two files"
   ]
  },
  {
   "cell_type": "code",
   "execution_count": null,
   "id": "f0f49acc-871b-4aa7-bcc0-db0b325e116c",
   "metadata": {},
   "outputs": [],
   "source": []
  },
  {
   "cell_type": "markdown",
   "id": "67a9bac4-f7e5-4ad8-a9e5-64f9213d07ad",
   "metadata": {},
   "source": [
    "## Predicted Feature\n",
    "\n",
    "**Column Status:** \n",
    "\n",
    "- 0: 1-29 days past due\n",
    "- 1: 30-59 days past due\n",
    "- 2: 60-89 days overdue\n",
    "- 3: 90-119 days overdue\n",
    "- 4: 120-149 days overdue\n",
    "- 5: Overdue or bad debts, write-offs for more than 150 days\n",
    "- C: paid off that month\n",
    "- X: No loan for the month\n",
    "\n",
    "\n",
    "\n",
    "**Column Months_Balance:**\n",
    "\n",
    "The month of the extracted data is the starting point, backwards\n",
    "\n",
    "- 0: current month\n",
    "- -1: previous month\n",
    "- ...\n"
   ]
  },
  {
   "cell_type": "code",
   "execution_count": 1425,
   "id": "45fc3d24-c5d6-4e7d-82e1-a0e7bba814f5",
   "metadata": {},
   "outputs": [
    {
     "name": "stdout",
     "output_type": "stream",
     "text": [
      "(1048575, 3)\n"
     ]
    },
    {
     "data": {
      "text/plain": [
       "45985"
      ]
     },
     "execution_count": 1425,
     "metadata": {},
     "output_type": "execute_result"
    }
   ],
   "source": [
    "print(credit_records.shape)\n",
    "credit_records['id'].nunique()"
   ]
  },
  {
   "cell_type": "code",
   "execution_count": 1426,
   "id": "72dc51cc-3f35-4712-a89c-e056bef6e83e",
   "metadata": {},
   "outputs": [
    {
     "data": {
      "text/plain": [
       "C    442031\n",
       "0    383120\n",
       "X    209230\n",
       "1     11090\n",
       "5      1693\n",
       "2       868\n",
       "3       320\n",
       "4       223\n",
       "Name: status, dtype: int64"
      ]
     },
     "execution_count": 1426,
     "metadata": {},
     "output_type": "execute_result"
    }
   ],
   "source": [
    "credit_records['status'].value_counts()"
   ]
  },
  {
   "cell_type": "code",
   "execution_count": 1427,
   "id": "ee567a57-facc-4887-8c11-2cca31737f2c",
   "metadata": {},
   "outputs": [
    {
     "data": {
      "text/html": [
       "<div>\n",
       "<style scoped>\n",
       "    .dataframe tbody tr th:only-of-type {\n",
       "        vertical-align: middle;\n",
       "    }\n",
       "\n",
       "    .dataframe tbody tr th {\n",
       "        vertical-align: top;\n",
       "    }\n",
       "\n",
       "    .dataframe thead th {\n",
       "        text-align: right;\n",
       "    }\n",
       "</style>\n",
       "<table border=\"1\" class=\"dataframe\">\n",
       "  <thead>\n",
       "    <tr style=\"text-align: right;\">\n",
       "      <th></th>\n",
       "      <th>id</th>\n",
       "      <th>status</th>\n",
       "      <th>months_balance</th>\n",
       "    </tr>\n",
       "  </thead>\n",
       "  <tbody>\n",
       "    <tr>\n",
       "      <th>0</th>\n",
       "      <td>5001711</td>\n",
       "      <td>0</td>\n",
       "      <td>3</td>\n",
       "    </tr>\n",
       "    <tr>\n",
       "      <th>1</th>\n",
       "      <td>5001711</td>\n",
       "      <td>X</td>\n",
       "      <td>1</td>\n",
       "    </tr>\n",
       "    <tr>\n",
       "      <th>2</th>\n",
       "      <td>5001712</td>\n",
       "      <td>0</td>\n",
       "      <td>10</td>\n",
       "    </tr>\n",
       "    <tr>\n",
       "      <th>3</th>\n",
       "      <td>5001712</td>\n",
       "      <td>C</td>\n",
       "      <td>9</td>\n",
       "    </tr>\n",
       "    <tr>\n",
       "      <th>4</th>\n",
       "      <td>5001713</td>\n",
       "      <td>X</td>\n",
       "      <td>22</td>\n",
       "    </tr>\n",
       "    <tr>\n",
       "      <th>...</th>\n",
       "      <td>...</td>\n",
       "      <td>...</td>\n",
       "      <td>...</td>\n",
       "    </tr>\n",
       "    <tr>\n",
       "      <th>94138</th>\n",
       "      <td>5150483</td>\n",
       "      <td>X</td>\n",
       "      <td>18</td>\n",
       "    </tr>\n",
       "    <tr>\n",
       "      <th>94139</th>\n",
       "      <td>5150484</td>\n",
       "      <td>0</td>\n",
       "      <td>12</td>\n",
       "    </tr>\n",
       "    <tr>\n",
       "      <th>94140</th>\n",
       "      <td>5150484</td>\n",
       "      <td>C</td>\n",
       "      <td>1</td>\n",
       "    </tr>\n",
       "    <tr>\n",
       "      <th>94141</th>\n",
       "      <td>5150485</td>\n",
       "      <td>0</td>\n",
       "      <td>2</td>\n",
       "    </tr>\n",
       "    <tr>\n",
       "      <th>94142</th>\n",
       "      <td>5150487</td>\n",
       "      <td>C</td>\n",
       "      <td>30</td>\n",
       "    </tr>\n",
       "  </tbody>\n",
       "</table>\n",
       "<p>94143 rows × 3 columns</p>\n",
       "</div>"
      ],
      "text/plain": [
       "            id status  months_balance\n",
       "0      5001711      0               3\n",
       "1      5001711      X               1\n",
       "2      5001712      0              10\n",
       "3      5001712      C               9\n",
       "4      5001713      X              22\n",
       "...        ...    ...             ...\n",
       "94138  5150483      X              18\n",
       "94139  5150484      0              12\n",
       "94140  5150484      C               1\n",
       "94141  5150485      0               2\n",
       "94142  5150487      C              30\n",
       "\n",
       "[94143 rows x 3 columns]"
      ]
     },
     "execution_count": 1427,
     "metadata": {},
     "output_type": "execute_result"
    }
   ],
   "source": [
    "pivot_tb = pd.pivot_table(credit_records, index = ['id', 'status'], aggfunc = 'count').reset_index()\n",
    "pivot_tb\n"
   ]
  },
  {
   "cell_type": "markdown",
   "id": "8f512e3a-681c-4a7d-8150-dfe608debf62",
   "metadata": {},
   "source": [
    "### Labeling the customers"
   ]
  },
  {
   "cell_type": "code",
   "execution_count": 1428,
   "id": "025f8285-cc45-4a1a-ada6-ce046fef3aba",
   "metadata": {},
   "outputs": [
    {
     "data": {
      "text/plain": [
       "[0.869, 0.113, 0.013, 0.0058, 0.00413, 0.00424]"
      ]
     },
     "execution_count": 1428,
     "metadata": {},
     "output_type": "execute_result"
    }
   ],
   "source": [
    "# Find percentage of customers for each status\n",
    "\n",
    "ratio_overdue = []\n",
    "\n",
    "# ratio of customers overdue more than 1 day:\n",
    "overdue0 = round(len(pivot_tb[pivot_tb['status'] == '0']) / pivot_tb['id'].nunique(), 3)\n",
    "ratio_overdue.append(overdue0)\n",
    "\n",
    "# ratio of customers overdue more than 30 days:\n",
    "overdue1 = round(len(pivot_tb[pivot_tb['status'] == '1']) / pivot_tb['id'].nunique(), 3)\n",
    "ratio_overdue.append(overdue1)\n",
    "\n",
    "# ratio of customers overdue more than 60 day:\n",
    "overdue2 = round(len(pivot_tb[pivot_tb['status'] == '2']) / pivot_tb['id'].nunique(), 4)\n",
    "ratio_overdue.append(overdue2)\n",
    "\n",
    "# ratio of customers overdue more than 90 day:\n",
    "overdue3 = round(len(pivot_tb[pivot_tb['status'] == '3']) / pivot_tb['id'].nunique(), 4)\n",
    "ratio_overdue.append(overdue3)\n",
    "                     \n",
    "# ratio of customers overdue more than 120 day:\n",
    "overdue4 = round(len(pivot_tb[pivot_tb['status'] == '4']) / pivot_tb['id'].nunique(), 5)\n",
    "ratio_overdue.append(overdue4)\n",
    "\n",
    "# ratio of customers overdue more than 150 day:\n",
    "overdue5 = round(len(pivot_tb[pivot_tb['status'] == '5']) / pivot_tb['id'].nunique(), 5)\n",
    "ratio_overdue.append(overdue5)\n",
    "\n",
    "ratio_overdue"
   ]
  },
  {
   "cell_type": "code",
   "execution_count": 1429,
   "id": "a1c2819f-54f5-4b29-9091-a0654fcdd2f4",
   "metadata": {},
   "outputs": [
    {
     "data": {
      "text/html": [
       "<div>\n",
       "<style scoped>\n",
       "    .dataframe tbody tr th:only-of-type {\n",
       "        vertical-align: middle;\n",
       "    }\n",
       "\n",
       "    .dataframe tbody tr th {\n",
       "        vertical-align: top;\n",
       "    }\n",
       "\n",
       "    .dataframe thead th {\n",
       "        text-align: right;\n",
       "    }\n",
       "</style>\n",
       "<table border=\"1\" class=\"dataframe\">\n",
       "  <thead>\n",
       "    <tr style=\"text-align: right;\">\n",
       "      <th></th>\n",
       "      <th>default</th>\n",
       "      <th>ratio</th>\n",
       "    </tr>\n",
       "  </thead>\n",
       "  <tbody>\n",
       "    <tr>\n",
       "      <th>0</th>\n",
       "      <td>&gt;1</td>\n",
       "      <td>0.86900</td>\n",
       "    </tr>\n",
       "    <tr>\n",
       "      <th>1</th>\n",
       "      <td>&gt;30</td>\n",
       "      <td>0.11300</td>\n",
       "    </tr>\n",
       "    <tr>\n",
       "      <th>2</th>\n",
       "      <td>&gt;60</td>\n",
       "      <td>0.01300</td>\n",
       "    </tr>\n",
       "    <tr>\n",
       "      <th>3</th>\n",
       "      <td>&gt;90</td>\n",
       "      <td>0.00580</td>\n",
       "    </tr>\n",
       "    <tr>\n",
       "      <th>4</th>\n",
       "      <td>&gt;120</td>\n",
       "      <td>0.00413</td>\n",
       "    </tr>\n",
       "    <tr>\n",
       "      <th>5</th>\n",
       "      <td>&gt;150</td>\n",
       "      <td>0.00424</td>\n",
       "    </tr>\n",
       "  </tbody>\n",
       "</table>\n",
       "</div>"
      ],
      "text/plain": [
       "  default    ratio\n",
       "0      >1  0.86900\n",
       "1     >30  0.11300\n",
       "2     >60  0.01300\n",
       "3     >90  0.00580\n",
       "4    >120  0.00413\n",
       "5    >150  0.00424"
      ]
     },
     "execution_count": 1429,
     "metadata": {},
     "output_type": "execute_result"
    }
   ],
   "source": [
    "# Creating a Dictonary and a Dataframe out of the caculated ratio.\n",
    "\n",
    "dict = {'default': ['>1', '>30', '>60', '>90', '>120', '>150'], \n",
    "       'ratio': ratio_overdue}\n",
    "\n",
    "pd.DataFrame.from_dict(dict)\n"
   ]
  },
  {
   "cell_type": "markdown",
   "id": "c7ca5a73-f616-4067-8c3e-52dfb8dba647",
   "metadata": {},
   "source": [
    "The percentage of customers who are overdue more than 1 day lies by 87%. If we would consider customers with STATUS 0 as RISK Customers this would lead to a lot of people being classified as bad. Those would not receive a loan. However the bank would also loose a lot of profit by being too risk averse. \n",
    "\n",
    "Considering the customers with more than 30 day overdue also leads to a relative high amount of customers classified as bad. More than 10% of customers are overdue more than 30days at least once. \n",
    "\n",
    "Customers overdue more than 60 days are already at a reasonable percentag of 1.3% \n",
    "\n",
    "**---> Customers >= STATUS 2 will be labeled as RISK!** \n"
   ]
  },
  {
   "cell_type": "code",
   "execution_count": 1430,
   "id": "1d4a5d4f-9d14-4928-9e85-6e2b025defc5",
   "metadata": {},
   "outputs": [
    {
     "data": {
      "text/html": [
       "<div>\n",
       "<style scoped>\n",
       "    .dataframe tbody tr th:only-of-type {\n",
       "        vertical-align: middle;\n",
       "    }\n",
       "\n",
       "    .dataframe tbody tr th {\n",
       "        vertical-align: top;\n",
       "    }\n",
       "\n",
       "    .dataframe thead th {\n",
       "        text-align: right;\n",
       "    }\n",
       "</style>\n",
       "<table border=\"1\" class=\"dataframe\">\n",
       "  <thead>\n",
       "    <tr style=\"text-align: right;\">\n",
       "      <th></th>\n",
       "      <th>id</th>\n",
       "      <th>status</th>\n",
       "      <th>months_balance</th>\n",
       "      <th>default_flag</th>\n",
       "    </tr>\n",
       "  </thead>\n",
       "  <tbody>\n",
       "    <tr>\n",
       "      <th>0</th>\n",
       "      <td>5001711</td>\n",
       "      <td>0</td>\n",
       "      <td>3</td>\n",
       "      <td>0</td>\n",
       "    </tr>\n",
       "    <tr>\n",
       "      <th>1</th>\n",
       "      <td>5001711</td>\n",
       "      <td>X</td>\n",
       "      <td>1</td>\n",
       "      <td>0</td>\n",
       "    </tr>\n",
       "    <tr>\n",
       "      <th>2</th>\n",
       "      <td>5001712</td>\n",
       "      <td>0</td>\n",
       "      <td>10</td>\n",
       "      <td>0</td>\n",
       "    </tr>\n",
       "    <tr>\n",
       "      <th>3</th>\n",
       "      <td>5001712</td>\n",
       "      <td>C</td>\n",
       "      <td>9</td>\n",
       "      <td>0</td>\n",
       "    </tr>\n",
       "    <tr>\n",
       "      <th>4</th>\n",
       "      <td>5001713</td>\n",
       "      <td>X</td>\n",
       "      <td>22</td>\n",
       "      <td>0</td>\n",
       "    </tr>\n",
       "  </tbody>\n",
       "</table>\n",
       "</div>"
      ],
      "text/plain": [
       "        id status  months_balance  default_flag\n",
       "0  5001711      0               3             0\n",
       "1  5001711      X               1             0\n",
       "2  5001712      0              10             0\n",
       "3  5001712      C               9             0\n",
       "4  5001713      X              22             0"
      ]
     },
     "execution_count": 1430,
     "metadata": {},
     "output_type": "execute_result"
    }
   ],
   "source": [
    "# Flag Customers as 1 or 0. 1 = RISK / 0 = NO RISK\n",
    "\n",
    "pivot_tb['default_flag'] = [0 if i in ['X', '0', '1', 'C'] else 1 for i in pivot_tb['status']] #each Status per customer will be flagged\n",
    "pivot_tb.head()\n",
    "\n",
    "# this approach leads to several values per customer -> however I am only interested in weather the customer is classified as riks or no risk. "
   ]
  },
  {
   "cell_type": "code",
   "execution_count": 1431,
   "id": "1d061e60-c171-44a2-ac63-4a26584d19cc",
   "metadata": {},
   "outputs": [],
   "source": [
    "# A customer which has one or more month with a status higher than 2 will be classified as RISK\n",
    "\n",
    "# 1. Compute the sum of all status labels per customer\n",
    "flagged = pd.pivot_table(pivot_tb, index = 'id', values = 'default_flag', aggfunc = 'sum').reset_index()\n",
    "\n",
    "# 2. if a customer has on ore more values flagged as 1, the overall lable will be RISK\n",
    "pivot_tb['default_flag'] = pivot_tb['default_flag'].apply(lambda x: 1 if x >= 1 else 0) #save in a new column"
   ]
  },
  {
   "cell_type": "code",
   "execution_count": 1432,
   "id": "58263924-f550-4a69-b793-b58f70e47e1e",
   "metadata": {},
   "outputs": [
    {
     "name": "stderr",
     "output_type": "stream",
     "text": [
      "/Users/steib/opt/anaconda3/lib/python3.9/site-packages/seaborn/_decorators.py:36: FutureWarning: Pass the following variable as a keyword arg: x. From version 0.12, the only valid positional argument will be `data`, and passing other arguments without an explicit keyword will result in an error or misinterpretation.\n",
      "  warnings.warn(\n"
     ]
    },
    {
     "data": {
      "text/plain": [
       "<AxesSubplot:xlabel='default_flag', ylabel='count'>"
      ]
     },
     "execution_count": 1432,
     "metadata": {},
     "output_type": "execute_result"
    },
    {
     "data": {
      "image/png": "[encoded data removed]",
      "text/plain": [
       "<Figure size 432x288 with 1 Axes>"
      ]
     },
     "metadata": {
      "needs_background": "light"
     },
     "output_type": "display_data"
    }
   ],
   "source": [
    "# Checking for plausability of calculation:\n",
    "\n",
    "pivot_tb['default_flag'].value_counts()\n",
    "\n",
    "sns.countplot(pivot_tb['default_flag'])\n",
    "\n",
    "# -- > There is a CLASS IMBALANCE"
   ]
  },
  {
   "cell_type": "code",
   "execution_count": 1433,
   "id": "cf8ee9ce-05a2-49b6-9ab2-cf7a77f60233",
   "metadata": {},
   "outputs": [],
   "source": [
    "\n",
    "var_dep = pivot_tb.copy()\n",
    "duplicated_id = var_dep[var_dep.duplicated(['id'])]\n",
    "duplicated_indexes = list(duplicated_id.index.values)"
   ]
  },
  {
   "cell_type": "code",
   "execution_count": 1434,
   "id": "ce65e07b-f470-46ba-9e62-5360e46501d4",
   "metadata": {},
   "outputs": [],
   "source": [
    "var_dep.drop(var_dep.index[duplicated_indexes], inplace = True)"
   ]
  },
  {
   "cell_type": "code",
   "execution_count": null,
   "id": "d1aa5b06-bc2d-4b19-abb6-f9f67c2527ff",
   "metadata": {},
   "outputs": [],
   "source": []
  },
  {
   "cell_type": "markdown",
   "id": "495b8a79-f1c2-481f-bc6a-a7206cab207f",
   "metadata": {},
   "source": [
    "## Independent Features"
   ]
  },
  {
   "cell_type": "code",
   "execution_count": 1435,
   "id": "a4a4087a-50fd-4354-8a56-e3b8ce55dcb8",
   "metadata": {},
   "outputs": [
    {
     "data": {
      "text/html": [
       "<div>\n",
       "<style scoped>\n",
       "    .dataframe tbody tr th:only-of-type {\n",
       "        vertical-align: middle;\n",
       "    }\n",
       "\n",
       "    .dataframe tbody tr th {\n",
       "        vertical-align: top;\n",
       "    }\n",
       "\n",
       "    .dataframe thead th {\n",
       "        text-align: right;\n",
       "    }\n",
       "</style>\n",
       "<table border=\"1\" class=\"dataframe\">\n",
       "  <thead>\n",
       "    <tr style=\"text-align: right;\">\n",
       "      <th></th>\n",
       "      <th>id</th>\n",
       "      <th>code_gender</th>\n",
       "      <th>flag_own_car</th>\n",
       "      <th>flag_own_realty</th>\n",
       "      <th>cnt_children</th>\n",
       "      <th>amt_income_total</th>\n",
       "      <th>name_income_type</th>\n",
       "      <th>name_education_type</th>\n",
       "      <th>name_family_status</th>\n",
       "      <th>name_housing_type</th>\n",
       "      <th>days_birth</th>\n",
       "      <th>days_employed</th>\n",
       "      <th>flag_mobil</th>\n",
       "      <th>flag_work_phone</th>\n",
       "      <th>flag_phone</th>\n",
       "      <th>flag_email</th>\n",
       "      <th>occupation_type</th>\n",
       "      <th>cnt_fam_members</th>\n",
       "    </tr>\n",
       "  </thead>\n",
       "  <tbody>\n",
       "    <tr>\n",
       "      <th>0</th>\n",
       "      <td>5008804</td>\n",
       "      <td>M</td>\n",
       "      <td>Y</td>\n",
       "      <td>Y</td>\n",
       "      <td>0</td>\n",
       "      <td>427500.0</td>\n",
       "      <td>Working</td>\n",
       "      <td>Higher education</td>\n",
       "      <td>Civil marriage</td>\n",
       "      <td>Rented apartment</td>\n",
       "      <td>-12005</td>\n",
       "      <td>-4542</td>\n",
       "      <td>1</td>\n",
       "      <td>1</td>\n",
       "      <td>0</td>\n",
       "      <td>0</td>\n",
       "      <td>NaN</td>\n",
       "      <td>2.0</td>\n",
       "    </tr>\n",
       "    <tr>\n",
       "      <th>1</th>\n",
       "      <td>5008805</td>\n",
       "      <td>M</td>\n",
       "      <td>Y</td>\n",
       "      <td>Y</td>\n",
       "      <td>0</td>\n",
       "      <td>427500.0</td>\n",
       "      <td>Working</td>\n",
       "      <td>Higher education</td>\n",
       "      <td>Civil marriage</td>\n",
       "      <td>Rented apartment</td>\n",
       "      <td>-12005</td>\n",
       "      <td>-4542</td>\n",
       "      <td>1</td>\n",
       "      <td>1</td>\n",
       "      <td>0</td>\n",
       "      <td>0</td>\n",
       "      <td>NaN</td>\n",
       "      <td>2.0</td>\n",
       "    </tr>\n",
       "    <tr>\n",
       "      <th>2</th>\n",
       "      <td>5008806</td>\n",
       "      <td>M</td>\n",
       "      <td>Y</td>\n",
       "      <td>Y</td>\n",
       "      <td>0</td>\n",
       "      <td>112500.0</td>\n",
       "      <td>Working</td>\n",
       "      <td>Secondary / secondary special</td>\n",
       "      <td>Married</td>\n",
       "      <td>House / apartment</td>\n",
       "      <td>-21474</td>\n",
       "      <td>-1134</td>\n",
       "      <td>1</td>\n",
       "      <td>0</td>\n",
       "      <td>0</td>\n",
       "      <td>0</td>\n",
       "      <td>Security staff</td>\n",
       "      <td>2.0</td>\n",
       "    </tr>\n",
       "    <tr>\n",
       "      <th>3</th>\n",
       "      <td>5008808</td>\n",
       "      <td>F</td>\n",
       "      <td>N</td>\n",
       "      <td>Y</td>\n",
       "      <td>0</td>\n",
       "      <td>270000.0</td>\n",
       "      <td>Commercial associate</td>\n",
       "      <td>Secondary / secondary special</td>\n",
       "      <td>Single / not married</td>\n",
       "      <td>House / apartment</td>\n",
       "      <td>-19110</td>\n",
       "      <td>-3051</td>\n",
       "      <td>1</td>\n",
       "      <td>0</td>\n",
       "      <td>1</td>\n",
       "      <td>1</td>\n",
       "      <td>Sales staff</td>\n",
       "      <td>1.0</td>\n",
       "    </tr>\n",
       "    <tr>\n",
       "      <th>4</th>\n",
       "      <td>5008809</td>\n",
       "      <td>F</td>\n",
       "      <td>N</td>\n",
       "      <td>Y</td>\n",
       "      <td>0</td>\n",
       "      <td>270000.0</td>\n",
       "      <td>Commercial associate</td>\n",
       "      <td>Secondary / secondary special</td>\n",
       "      <td>Single / not married</td>\n",
       "      <td>House / apartment</td>\n",
       "      <td>-19110</td>\n",
       "      <td>-3051</td>\n",
       "      <td>1</td>\n",
       "      <td>0</td>\n",
       "      <td>1</td>\n",
       "      <td>1</td>\n",
       "      <td>Sales staff</td>\n",
       "      <td>1.0</td>\n",
       "    </tr>\n",
       "  </tbody>\n",
       "</table>\n",
       "</div>"
      ],
      "text/plain": [
       "        id code_gender flag_own_car flag_own_realty  cnt_children  \\\n",
       "0  5008804           M            Y               Y             0   \n",
       "1  5008805           M            Y               Y             0   \n",
       "2  5008806           M            Y               Y             0   \n",
       "3  5008808           F            N               Y             0   \n",
       "4  5008809           F            N               Y             0   \n",
       "\n",
       "   amt_income_total      name_income_type            name_education_type  \\\n",
       "0          427500.0               Working               Higher education   \n",
       "1          427500.0               Working               Higher education   \n",
       "2          112500.0               Working  Secondary / secondary special   \n",
       "3          270000.0  Commercial associate  Secondary / secondary special   \n",
       "4          270000.0  Commercial associate  Secondary / secondary special   \n",
       "\n",
       "     name_family_status  name_housing_type  days_birth  days_employed  \\\n",
       "0        Civil marriage   Rented apartment      -12005          -4542   \n",
       "1        Civil marriage   Rented apartment      -12005          -4542   \n",
       "2               Married  House / apartment      -21474          -1134   \n",
       "3  Single / not married  House / apartment      -19110          -3051   \n",
       "4  Single / not married  House / apartment      -19110          -3051   \n",
       "\n",
       "   flag_mobil  flag_work_phone  flag_phone  flag_email occupation_type  \\\n",
       "0           1                1           0           0             NaN   \n",
       "1           1                1           0           0             NaN   \n",
       "2           1                0           0           0  Security staff   \n",
       "3           1                0           1           1     Sales staff   \n",
       "4           1                0           1           1     Sales staff   \n",
       "\n",
       "   cnt_fam_members  \n",
       "0              2.0  \n",
       "1              2.0  \n",
       "2              2.0  \n",
       "3              1.0  \n",
       "4              1.0  "
      ]
     },
     "execution_count": 1435,
     "metadata": {},
     "output_type": "execute_result"
    }
   ],
   "source": [
    "application_records.head()"
   ]
  },
  {
   "cell_type": "code",
   "execution_count": 1436,
   "id": "dfe37491-9b90-466d-98c0-ef411e90f127",
   "metadata": {},
   "outputs": [
    {
     "name": "stdout",
     "output_type": "stream",
     "text": [
      "<class 'pandas.core.frame.DataFrame'>\n",
      "RangeIndex: 438557 entries, 0 to 438556\n",
      "Data columns (total 18 columns):\n",
      " #   Column               Non-Null Count   Dtype  \n",
      "---  ------               --------------   -----  \n",
      " 0   id                   438557 non-null  int64  \n",
      " 1   code_gender          438557 non-null  object \n",
      " 2   flag_own_car         438557 non-null  object \n",
      " 3   flag_own_realty      438557 non-null  object \n",
      " 4   cnt_children         438557 non-null  int64  \n",
      " 5   amt_income_total     438557 non-null  float64\n",
      " 6   name_income_type     438557 non-null  object \n",
      " 7   name_education_type  438557 non-null  object \n",
      " 8   name_family_status   438557 non-null  object \n",
      " 9   name_housing_type    438557 non-null  object \n",
      " 10  days_birth           438557 non-null  int64  \n",
      " 11  days_employed        438557 non-null  int64  \n",
      " 12  flag_mobil           438557 non-null  int64  \n",
      " 13  flag_work_phone      438557 non-null  int64  \n",
      " 14  flag_phone           438557 non-null  int64  \n",
      " 15  flag_email           438557 non-null  int64  \n",
      " 16  occupation_type      304354 non-null  object \n",
      " 17  cnt_fam_members      438557 non-null  float64\n",
      "dtypes: float64(2), int64(8), object(8)\n",
      "memory usage: 60.2+ MB\n"
     ]
    }
   ],
   "source": [
    "# Are the columns in the correct dtype\n",
    "\n",
    "application_records.info()"
   ]
  },
  {
   "cell_type": "markdown",
   "id": "4f4bf209-f3ef-45b5-8bc0-dadf77b3fcba",
   "metadata": {},
   "source": [
    "#### Missing Values "
   ]
  },
  {
   "cell_type": "code",
   "execution_count": 1437,
   "id": "3819976b-09de-41d2-839e-4247b52d2f89",
   "metadata": {},
   "outputs": [
    {
     "data": {
      "text/plain": [
       "id                          0\n",
       "code_gender                 0\n",
       "flag_own_car                0\n",
       "flag_own_realty             0\n",
       "cnt_children                0\n",
       "amt_income_total            0\n",
       "name_income_type            0\n",
       "name_education_type         0\n",
       "name_family_status          0\n",
       "name_housing_type           0\n",
       "days_birth                  0\n",
       "days_employed               0\n",
       "flag_mobil                  0\n",
       "flag_work_phone             0\n",
       "flag_phone                  0\n",
       "flag_email                  0\n",
       "occupation_type        134203\n",
       "cnt_fam_members             0\n",
       "dtype: int64"
      ]
     },
     "execution_count": 1437,
     "metadata": {},
     "output_type": "execute_result"
    }
   ],
   "source": [
    "application_records.isna().sum()"
   ]
  },
  {
   "cell_type": "code",
   "execution_count": 1438,
   "id": "22348130-ad31-40d8-a4de-09313b54fdb5",
   "metadata": {},
   "outputs": [
    {
     "data": {
      "text/plain": [
       "NaN                      134203\n",
       "Laborers                  78240\n",
       "Core staff                43007\n",
       "Sales staff               41098\n",
       "Managers                  35487\n",
       "Drivers                   26090\n",
       "High skill tech staff     17289\n",
       "Accountants               15985\n",
       "Medicine staff            13520\n",
       "Cooking staff              8076\n",
       "Security staff             7993\n",
       "Cleaning staff             5845\n",
       "Private service staff      3456\n",
       "Low-skill Laborers         2140\n",
       "Secretaries                2044\n",
       "Waiters/barmen staff       1665\n",
       "Realty agents              1041\n",
       "HR staff                    774\n",
       "IT staff                    604\n",
       "Name: occupation_type, dtype: int64"
      ]
     },
     "execution_count": 1438,
     "metadata": {},
     "output_type": "execute_result"
    }
   ],
   "source": [
    "application_records['occupation_type'].value_counts( dropna = False)"
   ]
  },
  {
   "cell_type": "code",
   "execution_count": 1439,
   "id": "a439ffeb-7a07-47fb-84cb-f05160aea740",
   "metadata": {},
   "outputs": [
    {
     "data": {
      "text/plain": [
       "Others                   134203\n",
       "Laborers                  78240\n",
       "Core staff                43007\n",
       "Sales staff               41098\n",
       "Managers                  35487\n",
       "Drivers                   26090\n",
       "High skill tech staff     17289\n",
       "Accountants               15985\n",
       "Medicine staff            13520\n",
       "Cooking staff              8076\n",
       "Security staff             7993\n",
       "Cleaning staff             5845\n",
       "Private service staff      3456\n",
       "Low-skill Laborers         2140\n",
       "Secretaries                2044\n",
       "Waiters/barmen staff       1665\n",
       "Realty agents              1041\n",
       "HR staff                    774\n",
       "IT staff                    604\n",
       "Name: occupation_type, dtype: int64"
      ]
     },
     "execution_count": 1439,
     "metadata": {},
     "output_type": "execute_result"
    }
   ],
   "source": [
    "# Fill Missing Values: \n",
    "\n",
    "application_records['occupation_type'] = application_records['occupation_type'].fillna('Others')\n",
    "application_records['occupation_type'].value_counts( dropna = False)"
   ]
  },
  {
   "cell_type": "markdown",
   "id": "c3f364b2-f3b0-429d-9f91-897e84bfe490",
   "metadata": {},
   "source": [
    "### Categorical Values"
   ]
  },
  {
   "cell_type": "code",
   "execution_count": 1440,
   "id": "ef7ab9f8-3f44-4fb1-9c02-65e96af0a379",
   "metadata": {},
   "outputs": [
    {
     "name": "stderr",
     "output_type": "stream",
     "text": [
      "/var/folders/dj/n16zrnc50j79vq_pt7btwyg40000gn/T/ipykernel_44533/1525766102.py:2: SettingWithCopyWarning: \n",
      "A value is trying to be set on a copy of a slice from a DataFrame.\n",
      "Try using .loc[row_indexer,col_indexer] = value instead\n",
      "\n",
      "See the caveats in the documentation: https://pandas.pydata.org/pandas-docs/stable/user_guide/indexing.html#returning-a-view-versus-a-copy\n",
      "  application_cat['id'] = application_records.loc[:, 'id']\n"
     ]
    }
   ],
   "source": [
    "application_cat = application_records.select_dtypes('object')\n",
    "application_cat['id'] = application_records.loc[:, 'id']"
   ]
  },
  {
   "cell_type": "code",
   "execution_count": 1441,
   "id": "b561c579-78b0-4617-aba7-d676ecc0b320",
   "metadata": {},
   "outputs": [
    {
     "name": "stdout",
     "output_type": "stream",
     "text": [
      "(438557, 9)\n",
      "(438557, 10)\n"
     ]
    }
   ],
   "source": [
    "print(application_cat.shape)\n",
    "application_num = application_records.select_dtypes(np.number)\n",
    "print(application_num.shape)"
   ]
  },
  {
   "cell_type": "markdown",
   "id": "3b5f36cc-4176-4cbd-9c8c-d280cbebd06f",
   "metadata": {},
   "source": [
    "#### Reducing & Mergin Classes"
   ]
  },
  {
   "cell_type": "code",
   "execution_count": 1442,
   "id": "bd920371-3ec8-4d05-a008-f22862999a7a",
   "metadata": {},
   "outputs": [
    {
     "data": {
      "text/plain": [
       "code_gender                 2\n",
       "flag_own_car                2\n",
       "flag_own_realty             2\n",
       "name_income_type            5\n",
       "name_education_type         5\n",
       "name_family_status          5\n",
       "name_housing_type           6\n",
       "occupation_type            19\n",
       "id                     438510\n",
       "dtype: int64"
      ]
     },
     "execution_count": 1442,
     "metadata": {},
     "output_type": "execute_result"
    }
   ],
   "source": [
    "# checking for the amount of classes in each feature\n",
    "application_cat.nunique()"
   ]
  },
  {
   "cell_type": "code",
   "execution_count": 1443,
   "id": "7a883c5b-e62a-4b05-a5cf-1dbc1f058f08",
   "metadata": {},
   "outputs": [
    {
     "data": {
      "text/plain": [
       "Working                 226104\n",
       "Commercial associate    100757\n",
       "Pensioner                75493\n",
       "State servant            36186\n",
       "Student                     17\n",
       "Name: name_income_type, dtype: int64"
      ]
     },
     "execution_count": 1443,
     "metadata": {},
     "output_type": "execute_result"
    }
   ],
   "source": [
    "# checking the frequency of classes in INCOME TYPE\n",
    "application_cat['name_income_type'].value_counts()"
   ]
  },
  {
   "cell_type": "code",
   "execution_count": 1444,
   "id": "e7d91342-6c2b-4e11-82b4-c9e073dbcfca",
   "metadata": {},
   "outputs": [
    {
     "name": "stderr",
     "output_type": "stream",
     "text": [
      "/Users/steib/opt/anaconda3/lib/python3.9/site-packages/pandas/core/indexing.py:1817: SettingWithCopyWarning: \n",
      "A value is trying to be set on a copy of a slice from a DataFrame.\n",
      "Try using .loc[row_indexer,col_indexer] = value instead\n",
      "\n",
      "See the caveats in the documentation: https://pandas.pydata.org/pandas-docs/stable/user_guide/indexing.html#returning-a-view-versus-a-copy\n",
      "  self._setitem_single_column(loc, value, pi)\n"
     ]
    },
    {
     "data": {
      "text/plain": [
       "Working                 226104\n",
       "Commercial associate    100757\n",
       "Others                   75510\n",
       "State servant            36186\n",
       "Name: name_income_type, dtype: int64"
      ]
     },
     "execution_count": 1444,
     "metadata": {},
     "output_type": "execute_result"
    }
   ],
   "source": [
    "# I will merge 'Student' and 'Pensioner' \n",
    "\n",
    "application_cat.loc[(application_cat['name_income_type'] == 'Student') | (application_cat['name_income_type'] == 'Pensioner'), 'name_income_type'] = 'Others'\n",
    "application_cat['name_income_type'].value_counts()\n"
   ]
  },
  {
   "cell_type": "code",
   "execution_count": 1445,
   "id": "c2a8e984-5524-4e89-a795-b285f74536a1",
   "metadata": {},
   "outputs": [
    {
     "data": {
      "text/plain": [
       "Secondary / secondary special    301821\n",
       "Higher education                 117522\n",
       "Incomplete higher                 14851\n",
       "Lower secondary                    4051\n",
       "Academic degree                     312\n",
       "Name: name_education_type, dtype: int64"
      ]
     },
     "execution_count": 1445,
     "metadata": {},
     "output_type": "execute_result"
    }
   ],
   "source": [
    "# checking the frequency of classes in INCOME TYPE\n",
    "application_cat['name_education_type'].value_counts()"
   ]
  },
  {
   "cell_type": "code",
   "execution_count": 1446,
   "id": "12f13218-b2a6-44bb-b830-4291f35786c0",
   "metadata": {},
   "outputs": [
    {
     "data": {
      "text/plain": [
       "Secondary education    305872\n",
       "Higher education       117834\n",
       "Incomplete higher       14851\n",
       "Name: name_education_type, dtype: int64"
      ]
     },
     "execution_count": 1446,
     "metadata": {},
     "output_type": "execute_result"
    }
   ],
   "source": [
    "# I will merge all classes containing 'SECONDARY' and 'HIGHER' \n",
    "\n",
    "application_cat.loc[(application_cat['name_education_type'] == 'Lower secondary') | (application_cat['name_education_type'] == 'Secondary / secondary special'), 'name_education_type'] = 'Secondary education'\n",
    "application_cat.loc[(application_cat['name_education_type'] == 'Academic degree'), 'name_education_type'] = 'Higher education'\n",
    "application_cat['name_education_type'].value_counts()"
   ]
  },
  {
   "cell_type": "code",
   "execution_count": 1447,
   "id": "af5561dd-5c7a-4dcb-bfc9-2f14301b15ea",
   "metadata": {},
   "outputs": [
    {
     "data": {
      "text/plain": [
       "Married                 299828\n",
       "Single / not married     55271\n",
       "Civil marriage           36532\n",
       "Separated                27251\n",
       "Widow                    19675\n",
       "Name: name_family_status, dtype: int64"
      ]
     },
     "execution_count": 1447,
     "metadata": {},
     "output_type": "execute_result"
    }
   ],
   "source": [
    "# checking frequency of classes in FAMILY STATUS\n",
    "application_cat['name_family_status'].value_counts()"
   ]
  },
  {
   "cell_type": "code",
   "execution_count": 1448,
   "id": "b27c0d55-f9af-439d-b24d-90456064b1d5",
   "metadata": {},
   "outputs": [
    {
     "data": {
      "text/plain": [
       "Married        336360\n",
       "Not Married    102197\n",
       "Name: name_family_status, dtype: int64"
      ]
     },
     "execution_count": 1448,
     "metadata": {},
     "output_type": "execute_result"
    }
   ],
   "source": [
    "# I will group to 2 classes 'Married' and 'Not Married'\n",
    "application_cat.loc[(application_cat['name_family_status'] == 'Civil marriage'), 'name_family_status'] = 'Married'\n",
    "application_cat.loc[(application_cat['name_family_status'] != 'Married'), 'name_family_status'] = 'Not Married'\n",
    "application_cat['name_family_status'].value_counts()"
   ]
  },
  {
   "cell_type": "code",
   "execution_count": 1449,
   "id": "7aab3dc8-90fe-41a2-99df-cd1e72d676d5",
   "metadata": {},
   "outputs": [
    {
     "data": {
      "text/plain": [
       "House / apartment      393831\n",
       "With parents            19077\n",
       "Municipal apartment     14214\n",
       "Rented apartment         5974\n",
       "Office apartment         3922\n",
       "Co-op apartment          1539\n",
       "Name: name_housing_type, dtype: int64"
      ]
     },
     "execution_count": 1449,
     "metadata": {},
     "output_type": "execute_result"
    }
   ],
   "source": [
    "# checking frequency of classes in HOUSING TYPE\n",
    "application_cat['name_housing_type'].value_counts()"
   ]
  },
  {
   "cell_type": "code",
   "execution_count": 1450,
   "id": "3a6b46df-fafd-4f6a-aa47-b67a3ed75919",
   "metadata": {},
   "outputs": [
    {
     "data": {
      "text/plain": [
       "House / apartment    393831\n",
       "Rented apartment      25649\n",
       "With parents          19077\n",
       "Name: name_housing_type, dtype: int64"
      ]
     },
     "execution_count": 1450,
     "metadata": {},
     "output_type": "execute_result"
    }
   ],
   "source": [
    "application_cat.loc[(application_cat['name_housing_type'] == 'Municipal apartment') | (application_cat['name_housing_type'] == 'Office apartment') |\n",
    "                    (application_cat['name_housing_type'] == 'Office apartment') | \n",
    "                    (application_cat['name_housing_type'] == 'Co-op apartment'), 'name_housing_type'] = 'Rented apartment'\n",
    "\n",
    "application_cat['name_housing_type'].value_counts()"
   ]
  },
  {
   "cell_type": "code",
   "execution_count": 1451,
   "id": "775140e7-2414-4a17-b569-5d67172f2a77",
   "metadata": {},
   "outputs": [
    {
     "data": {
      "text/plain": [
       "Others                   134203\n",
       "Laborers                  78240\n",
       "Core staff                43007\n",
       "Sales staff               41098\n",
       "Managers                  35487\n",
       "Drivers                   26090\n",
       "High skill tech staff     17289\n",
       "Accountants               15985\n",
       "Medicine staff            13520\n",
       "Cooking staff              8076\n",
       "Security staff             7993\n",
       "Cleaning staff             5845\n",
       "Private service staff      3456\n",
       "Low-skill Laborers         2140\n",
       "Secretaries                2044\n",
       "Waiters/barmen staff       1665\n",
       "Realty agents              1041\n",
       "HR staff                    774\n",
       "IT staff                    604\n",
       "Name: occupation_type, dtype: int64"
      ]
     },
     "execution_count": 1451,
     "metadata": {},
     "output_type": "execute_result"
    }
   ],
   "source": [
    "# checking frequency of classes in OCCUPATION\n",
    "application_cat['occupation_type'].value_counts()"
   ]
  },
  {
   "cell_type": "code",
   "execution_count": 1452,
   "id": "d617c53d-fb05-4371-8702-4080c9173d2f",
   "metadata": {},
   "outputs": [
    {
     "data": {
      "text/plain": [
       "Laborers      195051\n",
       "Others        134203\n",
       "Core staff    109303\n",
       "Name: occupation_type, dtype: int64"
      ]
     },
     "execution_count": 1452,
     "metadata": {},
     "output_type": "execute_result"
    }
   ],
   "source": [
    "# Grouping into 3 classes: Others, Laborers, Core Staff\n",
    "\n",
    "\n",
    "application_cat.loc[(application_cat['occupation_type'] == 'Drivers') | (application_cat['occupation_type'] == 'Cooking staff') | \n",
    "                    (application_cat['occupation_type'] == 'Security staff') | (application_cat['occupation_type'] == 'Cleaning staff') |\n",
    "                    (application_cat['occupation_type'] == 'Private service staff') | (application_cat['occupation_type'] == 'Low-skill Laborers') |\n",
    "                    (application_cat['occupation_type'] == 'Waiters/barmen staff'), 'occupation_type'] = 'Laborers'\n",
    "\n",
    "application_cat.loc[(application_cat['occupation_type'] == 'IT staff') | (application_cat['occupation_type'] == 'Sales staff') |\n",
    "                    (application_cat['occupation_type'] == 'HR staff') | (application_cat['occupation_type'] == 'Secretaries') |\n",
    "                    (application_cat['occupation_type'] == 'Realty agents') | (application_cat['occupation_type'] == 'Accountants'), 'occupation_type'] = 'Laborers'\n",
    "\n",
    "application_cat.loc[(application_cat['occupation_type'] == 'Core staff') | (application_cat['occupation_type'] == 'Managers') |\n",
    "                    (application_cat['occupation_type'] == 'High skill tech staff') | \n",
    "                    (application_cat['occupation_type'] == 'Medicine staff'), 'occupation_type'] = 'Core staff'\n",
    "\n",
    "application_cat['occupation_type'].value_counts()"
   ]
  },
  {
   "cell_type": "code",
   "execution_count": 1453,
   "id": "616a4753-e33d-4fe9-9aed-87438b045a34",
   "metadata": {},
   "outputs": [
    {
     "data": {
      "text/plain": [
       "(438557, 10)"
      ]
     },
     "execution_count": 1453,
     "metadata": {},
     "output_type": "execute_result"
    }
   ],
   "source": [
    "application_num.shape"
   ]
  },
  {
   "cell_type": "markdown",
   "id": "2a897017-ad17-47fb-95c7-b552edce68b8",
   "metadata": {},
   "source": [
    "#### Two-sample T-Test\n",
    "I want to check if my classes in Occupation makes sense: Therefore i will test if there is a difference between the incomes in the groups. \n",
    "\n",
    "**Assumption: if the classification is correct, than this should be reflected in the income.** I want to see, if Core Staff has higher pay than the rest. \n",
    "\n",
    "TWO SAMPLE RIGHT TAIL T-TEST:\n",
    "\n",
    "-  H0: There is no difference between the income mean \n",
    "-  H1: The income mean of the Core Staff is higher\n",
    "-  lambda: 0.05\n",
    "\n",
    "\n",
    "\n",
    "\n"
   ]
  },
  {
   "cell_type": "code",
   "execution_count": 1454,
   "id": "930ff969-cc0f-4d1b-8d9a-7827aa2bd397",
   "metadata": {},
   "outputs": [
    {
     "name": "stdout",
     "output_type": "stream",
     "text": [
      "8173956754.211781 20955220287.206646\n",
      "The Ratio of both sample variances is 2.56 which is smaller than 4:1\n",
      "We can assume that the variances are the same\n",
      "\n",
      "The income mean of Core Staff 218462 is bigger than the income mean of the others group 170870\n",
      "\n",
      "The p-value is very small: The income seems to be signficantly different from each other\n"
     ]
    }
   ],
   "source": [
    "# CHECK IF VARIANCES ARE EQUAL. IF LARGE TO SMALL RATIO IS < 4:1\n",
    "\n",
    "# EQUALE VARIANCE:\n",
    "\n",
    "income_core = application_records.loc[(application_cat['occupation_type'] == 'Core staff') | (application_cat['occupation_type'] == 'Managers') |\n",
    "                    (application_cat['occupation_type'] == 'High skill tech staff') | \n",
    "                    (application_cat['occupation_type'] == 'Medicine staff'), 'amt_income_total']\n",
    "\n",
    "income_others = application_records.loc[(application_cat['occupation_type'] == 'Others') | (application_cat['occupation_type'] == 'Drivers') | (application_cat['occupation_type'] == 'Cooking staff') | \n",
    "                    (application_cat['occupation_type'] == 'Security staff') | (application_cat['occupation_type'] == 'Cleaning staff') |\n",
    "                    (application_cat['occupation_type'] == 'Private service staff') | (application_cat['occupation_type'] == 'Low-skill Laborers') |\n",
    "                    (application_cat['occupation_type'] == 'Waiters/barmen staff') | (application_cat['occupation_type'] == 'IT staff') | (application_cat['occupation_type'] == 'Sales staff') |\n",
    "                    (application_cat['occupation_type'] == 'HR staff') | (application_cat['occupation_type'] == 'Secretaries') |\n",
    "                    (application_cat['occupation_type'] == 'Realty agents') | (application_cat['occupation_type'] == 'Accountants'), 'amt_income_total']\n",
    "\n",
    "print(np.var(income_others), np.var(income_core))\n",
    "print('The Ratio of both sample variances is {:.2f} which is smaller than 4:1'.format(np.var(income_core)/np.var(income_others)))\n",
    "print('We can assume that the variances are the same')\n",
    "\n",
    "\n",
    "# CALCULATING THE MEANS:\n",
    "\n",
    "bar_core = round(np.mean(income_core))\n",
    "bar_others = round(np.mean(income_others))\n",
    "\n",
    "print()\n",
    "print('The income mean of Core Staff {} is bigger than the income mean of the others group {}'.format(bar_core, bar_others))\n",
    "\n",
    "\n",
    "# PERFORMING TWO SAMPLE T-TEST:\n",
    "\n",
    "from scipy.stats import ttest_ind\n",
    "\n",
    "ttest_ind(a=income_core, b=income_others, equal_var=True)\n",
    "\n",
    "print()\n",
    "print('The p-value is very small: The income seems to be signficantly different from each other')\n"
   ]
  },
  {
   "cell_type": "code",
   "execution_count": 1455,
   "id": "cce51596-6b40-4a45-b44f-6741cb8df2b8",
   "metadata": {},
   "outputs": [
    {
     "data": {
      "text/plain": [
       "(438557, 10)"
      ]
     },
     "execution_count": 1455,
     "metadata": {},
     "output_type": "execute_result"
    }
   ],
   "source": [
    "application_num.shape"
   ]
  },
  {
   "cell_type": "markdown",
   "id": "cbea7279-6b17-45cc-905b-0b0d375a55d1",
   "metadata": {
    "tags": []
   },
   "source": [
    "### Numerical Values"
   ]
  },
  {
   "cell_type": "code",
   "execution_count": 1456,
   "id": "f39c1029-af10-414f-84e0-0c12024278d4",
   "metadata": {},
   "outputs": [
    {
     "data": {
      "text/html": [
       "<div>\n",
       "<style scoped>\n",
       "    .dataframe tbody tr th:only-of-type {\n",
       "        vertical-align: middle;\n",
       "    }\n",
       "\n",
       "    .dataframe tbody tr th {\n",
       "        vertical-align: top;\n",
       "    }\n",
       "\n",
       "    .dataframe thead th {\n",
       "        text-align: right;\n",
       "    }\n",
       "</style>\n",
       "<table border=\"1\" class=\"dataframe\">\n",
       "  <thead>\n",
       "    <tr style=\"text-align: right;\">\n",
       "      <th></th>\n",
       "      <th>id</th>\n",
       "      <th>cnt_children</th>\n",
       "      <th>amt_income_total</th>\n",
       "      <th>days_birth</th>\n",
       "      <th>days_employed</th>\n",
       "      <th>flag_mobil</th>\n",
       "      <th>flag_work_phone</th>\n",
       "      <th>flag_phone</th>\n",
       "      <th>flag_email</th>\n",
       "      <th>cnt_fam_members</th>\n",
       "    </tr>\n",
       "  </thead>\n",
       "  <tbody>\n",
       "    <tr>\n",
       "      <th>0</th>\n",
       "      <td>5008804</td>\n",
       "      <td>0</td>\n",
       "      <td>427500.0</td>\n",
       "      <td>-12005</td>\n",
       "      <td>-4542</td>\n",
       "      <td>1</td>\n",
       "      <td>1</td>\n",
       "      <td>0</td>\n",
       "      <td>0</td>\n",
       "      <td>2.0</td>\n",
       "    </tr>\n",
       "    <tr>\n",
       "      <th>1</th>\n",
       "      <td>5008805</td>\n",
       "      <td>0</td>\n",
       "      <td>427500.0</td>\n",
       "      <td>-12005</td>\n",
       "      <td>-4542</td>\n",
       "      <td>1</td>\n",
       "      <td>1</td>\n",
       "      <td>0</td>\n",
       "      <td>0</td>\n",
       "      <td>2.0</td>\n",
       "    </tr>\n",
       "    <tr>\n",
       "      <th>2</th>\n",
       "      <td>5008806</td>\n",
       "      <td>0</td>\n",
       "      <td>112500.0</td>\n",
       "      <td>-21474</td>\n",
       "      <td>-1134</td>\n",
       "      <td>1</td>\n",
       "      <td>0</td>\n",
       "      <td>0</td>\n",
       "      <td>0</td>\n",
       "      <td>2.0</td>\n",
       "    </tr>\n",
       "    <tr>\n",
       "      <th>3</th>\n",
       "      <td>5008808</td>\n",
       "      <td>0</td>\n",
       "      <td>270000.0</td>\n",
       "      <td>-19110</td>\n",
       "      <td>-3051</td>\n",
       "      <td>1</td>\n",
       "      <td>0</td>\n",
       "      <td>1</td>\n",
       "      <td>1</td>\n",
       "      <td>1.0</td>\n",
       "    </tr>\n",
       "    <tr>\n",
       "      <th>4</th>\n",
       "      <td>5008809</td>\n",
       "      <td>0</td>\n",
       "      <td>270000.0</td>\n",
       "      <td>-19110</td>\n",
       "      <td>-3051</td>\n",
       "      <td>1</td>\n",
       "      <td>0</td>\n",
       "      <td>1</td>\n",
       "      <td>1</td>\n",
       "      <td>1.0</td>\n",
       "    </tr>\n",
       "  </tbody>\n",
       "</table>\n",
       "</div>"
      ],
      "text/plain": [
       "        id  cnt_children  amt_income_total  days_birth  days_employed  \\\n",
       "0  5008804             0          427500.0      -12005          -4542   \n",
       "1  5008805             0          427500.0      -12005          -4542   \n",
       "2  5008806             0          112500.0      -21474          -1134   \n",
       "3  5008808             0          270000.0      -19110          -3051   \n",
       "4  5008809             0          270000.0      -19110          -3051   \n",
       "\n",
       "   flag_mobil  flag_work_phone  flag_phone  flag_email  cnt_fam_members  \n",
       "0           1                1           0           0              2.0  \n",
       "1           1                1           0           0              2.0  \n",
       "2           1                0           0           0              2.0  \n",
       "3           1                0           1           1              1.0  \n",
       "4           1                0           1           1              1.0  "
      ]
     },
     "execution_count": 1456,
     "metadata": {},
     "output_type": "execute_result"
    }
   ],
   "source": [
    "application_num = application_records.select_dtypes(np.number)\n",
    "application_num.head()"
   ]
  },
  {
   "cell_type": "code",
   "execution_count": 1457,
   "id": "0c90e825-014d-480e-9df0-9b242a15612c",
   "metadata": {},
   "outputs": [],
   "source": [
    "# Moving Flag Values from numerical to categorical df:\n",
    "\n",
    "application_cat = application_cat.assign(flag_mobil = application_num['flag_mobil'],\n",
    "                      flag_work_phone = application_num['flag_work_phone'],\n",
    "                      flag_phone = application_num['flag_phone'],\n",
    "                      flag_email = application_num['flag_email'])"
   ]
  },
  {
   "cell_type": "code",
   "execution_count": 1458,
   "id": "c4be55dd-d534-420e-8316-812499125170",
   "metadata": {},
   "outputs": [
    {
     "name": "stdout",
     "output_type": "stream",
     "text": [
      "(438557, 13)\n",
      "(438557, 10)\n"
     ]
    }
   ],
   "source": [
    "print(application_cat.shape)\n",
    "print(application_num.shape)"
   ]
  },
  {
   "cell_type": "markdown",
   "id": "fc223221-a9e8-4301-8396-78bac2ce7202",
   "metadata": {},
   "source": [
    "#### Dealing with Outliers"
   ]
  },
  {
   "cell_type": "code",
   "execution_count": 1459,
   "id": "c86f945b-ff37-4c45-93b2-4cd0a898224a",
   "metadata": {},
   "outputs": [
    {
     "data": {
      "text/plain": [
       "(array([3.18383e+05, 1.14484e+05, 5.54000e+03, 1.28000e+02, 9.00000e+00,\n",
       "        5.00000e+00, 4.00000e+00, 3.00000e+00, 0.00000e+00, 1.00000e+00]),\n",
       " array([ 1. ,  2.9,  4.8,  6.7,  8.6, 10.5, 12.4, 14.3, 16.2, 18.1, 20. ]),\n",
       " <BarContainer object of 10 artists>)"
      ]
     },
     "execution_count": 1459,
     "metadata": {},
     "output_type": "execute_result"
    },
    {
     "data": {
      "image/png": "[encoded data removed]",
      "text/plain": [
       "<Figure size 432x288 with 1 Axes>"
      ]
     },
     "metadata": {
      "needs_background": "light"
     },
     "output_type": "display_data"
    }
   ],
   "source": [
    "# FAMILY MEMBERS\n",
    "plt.hist(application_num['cnt_fam_members'])"
   ]
  },
  {
   "cell_type": "code",
   "execution_count": 1460,
   "id": "38bcd531-ed15-4b86-b505-4abbcfac2c48",
   "metadata": {},
   "outputs": [
    {
     "data": {
      "text/plain": [
       "<AxesSubplot:xlabel='cnt_fam_members'>"
      ]
     },
     "execution_count": 1460,
     "metadata": {},
     "output_type": "execute_result"
    },
    {
     "data": {
      "image/png": "[encoded data removed]",
      "text/plain": [
       "<Figure size 432x288 with 1 Axes>"
      ]
     },
     "metadata": {
      "needs_background": "light"
     },
     "output_type": "display_data"
    }
   ],
   "source": [
    "sns.boxplot(x = application_num['cnt_fam_members'])"
   ]
  },
  {
   "cell_type": "code",
   "execution_count": 1461,
   "id": "b5a59644-ba61-45ac-80ab-cd586c9477c1",
   "metadata": {},
   "outputs": [
    {
     "data": {
      "text/plain": [
       "2.0     233891\n",
       "1.0      84492\n",
       "3.0      77128\n",
       "4.0      37356\n",
       "5.0       5081\n",
       "6.0        459\n",
       "7.0        124\n",
       "9.0          9\n",
       "11.0         5\n",
       "14.0         4\n",
       "8.0          4\n",
       "15.0         3\n",
       "20.0         1\n",
       "Name: cnt_fam_members, dtype: int64"
      ]
     },
     "execution_count": 1461,
     "metadata": {},
     "output_type": "execute_result"
    }
   ],
   "source": [
    "application_num['cnt_fam_members'].value_counts()"
   ]
  },
  {
   "cell_type": "code",
   "execution_count": 1462,
   "id": "8e86cb41-56d9-4afb-a75b-bba90e47df80",
   "metadata": {},
   "outputs": [
    {
     "name": "stderr",
     "output_type": "stream",
     "text": [
      "/var/folders/dj/n16zrnc50j79vq_pt7btwyg40000gn/T/ipykernel_44533/1899648218.py:5: SettingWithCopyWarning: \n",
      "A value is trying to be set on a copy of a slice from a DataFrame.\n",
      "Try using .loc[row_indexer,col_indexer] = value instead\n",
      "\n",
      "See the caveats in the documentation: https://pandas.pydata.org/pandas-docs/stable/user_guide/indexing.html#returning-a-view-versus-a-copy\n",
      "  application_num['age'] = -application_num['days_birth'] / 365\n",
      "/var/folders/dj/n16zrnc50j79vq_pt7btwyg40000gn/T/ipykernel_44533/1899648218.py:6: SettingWithCopyWarning: \n",
      "A value is trying to be set on a copy of a slice from a DataFrame.\n",
      "Try using .loc[row_indexer,col_indexer] = value instead\n",
      "\n",
      "See the caveats in the documentation: https://pandas.pydata.org/pandas-docs/stable/user_guide/indexing.html#returning-a-view-versus-a-copy\n",
      "  application_num['age'] = application_num['age'].apply(lambda x: math.floor(x))\n"
     ]
    }
   ],
   "source": [
    "# AGE\n",
    "\n",
    "import math\n",
    "\n",
    "application_num['age'] = -application_num['days_birth'] / 365\n",
    "application_num['age'] = application_num['age'].apply(lambda x: math.floor(x))"
   ]
  },
  {
   "cell_type": "code",
   "execution_count": 1463,
   "id": "507251b4-4196-4254-807d-d41139ad20a2",
   "metadata": {},
   "outputs": [
    {
     "name": "stderr",
     "output_type": "stream",
     "text": [
      "/Users/steib/opt/anaconda3/lib/python3.9/site-packages/pandas/core/frame.py:4906: SettingWithCopyWarning: \n",
      "A value is trying to be set on a copy of a slice from a DataFrame\n",
      "\n",
      "See the caveats in the documentation: https://pandas.pydata.org/pandas-docs/stable/user_guide/indexing.html#returning-a-view-versus-a-copy\n",
      "  return super().drop(\n"
     ]
    }
   ],
   "source": [
    "application_num.drop('days_birth', axis = 1, inplace = True)"
   ]
  },
  {
   "cell_type": "code",
   "execution_count": 1464,
   "id": "195277eb-19b1-4421-ac5f-e6d9c6c6d933",
   "metadata": {},
   "outputs": [
    {
     "data": {
      "text/plain": [
       "<AxesSubplot:xlabel='age'>"
      ]
     },
     "execution_count": 1464,
     "metadata": {},
     "output_type": "execute_result"
    },
    {
     "data": {
      "image/png": "[encoded data removed]",
      "text/plain": [
       "<Figure size 432x288 with 1 Axes>"
      ]
     },
     "metadata": {
      "needs_background": "light"
     },
     "output_type": "display_data"
    }
   ],
   "source": [
    "sns.boxplot(x = application_num['age'])"
   ]
  },
  {
   "cell_type": "code",
   "execution_count": 1465,
   "id": "73596bd8-ecc1-4585-bdaf-a66bfc6ef804",
   "metadata": {},
   "outputs": [
    {
     "name": "stderr",
     "output_type": "stream",
     "text": [
      "/var/folders/dj/n16zrnc50j79vq_pt7btwyg40000gn/T/ipykernel_44533/1013940129.py:3: SettingWithCopyWarning: \n",
      "A value is trying to be set on a copy of a slice from a DataFrame.\n",
      "Try using .loc[row_indexer,col_indexer] = value instead\n",
      "\n",
      "See the caveats in the documentation: https://pandas.pydata.org/pandas-docs/stable/user_guide/indexing.html#returning-a-view-versus-a-copy\n",
      "  application_num['employed_since'] = -application_num['days_employed'] / 365\n",
      "/var/folders/dj/n16zrnc50j79vq_pt7btwyg40000gn/T/ipykernel_44533/1013940129.py:4: SettingWithCopyWarning: \n",
      "A value is trying to be set on a copy of a slice from a DataFrame.\n",
      "Try using .loc[row_indexer,col_indexer] = value instead\n",
      "\n",
      "See the caveats in the documentation: https://pandas.pydata.org/pandas-docs/stable/user_guide/indexing.html#returning-a-view-versus-a-copy\n",
      "  application_num['employed_since'] = application_num['employed_since'].apply(lambda x: math.floor(x))\n"
     ]
    }
   ],
   "source": [
    "# EMPLOYEED\n",
    "\n",
    "application_num['employed_since'] = -application_num['days_employed'] / 365\n",
    "application_num['employed_since'] = application_num['employed_since'].apply(lambda x: math.floor(x))"
   ]
  },
  {
   "cell_type": "code",
   "execution_count": null,
   "id": "4b496858-bf30-412a-9f8b-107a93eb2149",
   "metadata": {},
   "outputs": [],
   "source": []
  },
  {
   "cell_type": "code",
   "execution_count": 1466,
   "id": "4ef3d766-b882-47b5-8d60-2766c45bfab8",
   "metadata": {},
   "outputs": [
    {
     "data": {
      "text/plain": [
       "<AxesSubplot:xlabel='employed_since'>"
      ]
     },
     "execution_count": 1466,
     "metadata": {},
     "output_type": "execute_result"
    },
    {
     "data": {
      "image/png": "[encoded data removed]",
      "text/plain": [
       "<Figure size 432x288 with 1 Axes>"
      ]
     },
     "metadata": {
      "needs_background": "light"
     },
     "output_type": "display_data"
    }
   ],
   "source": [
    "sns.boxplot(x = application_num['employed_since'])"
   ]
  },
  {
   "cell_type": "code",
   "execution_count": 1467,
   "id": "8e635cb4-3f05-422b-8dfd-5cc83dee9d5c",
   "metadata": {},
   "outputs": [
    {
     "data": {
      "text/plain": [
       "<AxesSubplot:xlabel='employed_since'>"
      ]
     },
     "execution_count": 1467,
     "metadata": {},
     "output_type": "execute_result"
    },
    {
     "data": {
      "image/png": "[encoded data removed]",
      "text/plain": [
       "<Figure size 432x288 with 1 Axes>"
      ]
     },
     "metadata": {
      "needs_background": "light"
     },
     "output_type": "display_data"
    }
   ],
   "source": [
    "# OUTLIER \n",
    "application_num = application_num.loc[application_num['employed_since'] >= 0]\n",
    "\n",
    "sns.boxplot(x = application_num['employed_since'])"
   ]
  },
  {
   "cell_type": "code",
   "execution_count": 1468,
   "id": "8a6f75e5-9670-43ea-aa6e-f58981901c8c",
   "metadata": {},
   "outputs": [
    {
     "data": {
      "image/png": "[encoded data removed]",
      "text/plain": [
       "<Figure size 432x288 with 1 Axes>"
      ]
     },
     "metadata": {
      "needs_background": "light"
     },
     "output_type": "display_data"
    }
   ],
   "source": [
    "# CHILDREN\n",
    "\n",
    "sns.boxplot(x = application_num['cnt_children']) # There seems to be some unusally high number of children in the data set\n",
    "\n",
    "# OUTLIER\n",
    "\n",
    "application_num = application_num.loc[application_num['cnt_children'] < 15]"
   ]
  },
  {
   "cell_type": "code",
   "execution_count": null,
   "id": "1357a2f7-0961-451b-b9fd-bef6f01841d5",
   "metadata": {},
   "outputs": [],
   "source": []
  },
  {
   "cell_type": "code",
   "execution_count": 1469,
   "id": "65a1b02b-e723-4fb0-a39e-292d4c0ce598",
   "metadata": {},
   "outputs": [
    {
     "data": {
      "image/png": "[encoded data removed]",
      "text/plain": [
       "<Figure size 360x360 with 1 Axes>"
      ]
     },
     "metadata": {
      "needs_background": "light"
     },
     "output_type": "display_data"
    },
    {
     "data": {
      "image/png": "[encoded data removed]",
      "text/plain": [
       "<Figure size 432x288 with 1 Axes>"
      ]
     },
     "metadata": {
      "needs_background": "light"
     },
     "output_type": "display_data"
    },
    {
     "data": {
      "text/plain": [
       "135000.0    38969\n",
       "157500.0    33914\n",
       "180000.0    33122\n",
       "225000.0    30435\n",
       "112500.0    29767\n",
       "            ...  \n",
       "163260.0        1\n",
       "234900.0        1\n",
       "936000.0        1\n",
       "160425.0        1\n",
       "143073.0        1\n",
       "Name: amt_income_total, Length: 708, dtype: int64"
      ]
     },
     "execution_count": 1469,
     "metadata": {},
     "output_type": "execute_result"
    }
   ],
   "source": [
    "# INCOME\n",
    "\n",
    "sns.displot(x = application_num['amt_income_total'])\n",
    "plt.show()\n",
    "sns.boxplot(x = application_num['amt_income_total'])\n",
    "plt.show()\n",
    "\n",
    "application_num['amt_income_total'].value_counts()"
   ]
  },
  {
   "cell_type": "code",
   "execution_count": 1470,
   "id": "93fff207-680b-4f1f-9143-7a1dc4d4fbf4",
   "metadata": {},
   "outputs": [],
   "source": [
    "application_num = application_num.loc[application_num['amt_income_total'] < 500000]"
   ]
  },
  {
   "cell_type": "code",
   "execution_count": 1471,
   "id": "5a43255c-e883-4550-9f92-49d3a21e672d",
   "metadata": {},
   "outputs": [
    {
     "data": {
      "image/png": "[encoded data removed]",
      "text/plain": [
       "<Figure size 432x288 with 1 Axes>"
      ]
     },
     "metadata": {
      "needs_background": "light"
     },
     "output_type": "display_data"
    },
    {
     "data": {
      "text/plain": [
       "<seaborn.axisgrid.FacetGrid at 0x7fa68a18eb80>"
      ]
     },
     "execution_count": 1471,
     "metadata": {},
     "output_type": "execute_result"
    },
    {
     "data": {
      "image/png": "[encoded data removed]",
      "text/plain": [
       "<Figure size 360x360 with 1 Axes>"
      ]
     },
     "metadata": {
      "needs_background": "light"
     },
     "output_type": "display_data"
    }
   ],
   "source": [
    "sns.boxplot(x= application_num['amt_income_total'])\n",
    "plt.show()\n",
    "sns.displot(x = application_num['amt_income_total'])"
   ]
  },
  {
   "cell_type": "code",
   "execution_count": null,
   "id": "42483c68-4553-459b-b8ae-c61da8ce2bb5",
   "metadata": {},
   "outputs": [],
   "source": []
  },
  {
   "cell_type": "code",
   "execution_count": 1472,
   "id": "02f75149-49e0-4080-972b-58b8bc1fc766",
   "metadata": {},
   "outputs": [
    {
     "data": {
      "text/plain": [
       "0         (417000.0, 495000.0]\n",
       "1         (417000.0, 495000.0]\n",
       "2         (105000.0, 183000.0]\n",
       "3         (261000.0, 339000.0]\n",
       "4         (261000.0, 339000.0]\n",
       "                  ...         \n",
       "438547    (105000.0, 183000.0]\n",
       "438548    (105000.0, 183000.0]\n",
       "438553     (26532.0, 105000.0]\n",
       "438554     (26532.0, 105000.0]\n",
       "438556    (105000.0, 183000.0]\n",
       "Name: amt_income_total, Length: 358084, dtype: category\n",
       "Categories (6, interval[float64, right]): [(26532.0, 105000.0] < (105000.0, 183000.0] < (183000.0, 261000.0] < (261000.0, 339000.0] < (339000.0, 417000.0] < (417000.0, 495000.0]]"
      ]
     },
     "execution_count": 1472,
     "metadata": {},
     "output_type": "execute_result"
    }
   ],
   "source": [
    "# CHECKING FOR APPROPRIATE BIN SIZE: \n",
    "pd.cut(x=application_num['amt_income_total'], bins = 6)"
   ]
  },
  {
   "cell_type": "code",
   "execution_count": 1473,
   "id": "5a2bf9a1-30ab-4549-a6a7-ce4606d70c00",
   "metadata": {},
   "outputs": [],
   "source": [
    "#Create customized bins: \n",
    "bins = [0,  100000, 200000, 300000, 400000, 500000]\n",
    "labels = ['<=100k', '100k-200k', '200k-300k', '300k-400k', '400k+' ]\n",
    "\n",
    "# Add column to categorical df\n",
    "application_cat['income'] = pd.cut(x = application_num['amt_income_total'], bins = bins, labels = labels, include_lowest = True)"
   ]
  },
  {
   "cell_type": "code",
   "execution_count": 1474,
   "id": "1a8f013e-9eab-4035-8e51-f980f8bc88c7",
   "metadata": {},
   "outputs": [],
   "source": [
    "# DROP REDUNDANT DATA\n",
    "application_num.drop(['flag_mobil', 'flag_work_phone', 'flag_phone', 'flag_email', 'amt_income_total', 'days_employed'], axis = 1, inplace = True)"
   ]
  },
  {
   "cell_type": "code",
   "execution_count": 1475,
   "id": "59798de3-295a-44a0-87a2-4bc64035a1c0",
   "metadata": {},
   "outputs": [
    {
     "name": "stdout",
     "output_type": "stream",
     "text": [
      "(358084, 5)\n"
     ]
    }
   ],
   "source": [
    "print(application_num.shape)"
   ]
  },
  {
   "cell_type": "code",
   "execution_count": 1476,
   "id": "bdb2ab8f-9f39-4264-a016-e03206e7d6e3",
   "metadata": {},
   "outputs": [
    {
     "data": {
      "text/plain": [
       "code_gender                0\n",
       "flag_own_car               0\n",
       "flag_own_realty            0\n",
       "name_income_type           0\n",
       "name_education_type        0\n",
       "name_family_status         0\n",
       "name_housing_type          0\n",
       "occupation_type            0\n",
       "id                         0\n",
       "flag_mobil                 0\n",
       "flag_work_phone            0\n",
       "flag_phone                 0\n",
       "flag_email                 0\n",
       "income                 80473\n",
       "dtype: int64"
      ]
     },
     "execution_count": 1476,
     "metadata": {},
     "output_type": "execute_result"
    }
   ],
   "source": [
    "application_cat.isna().sum()"
   ]
  },
  {
   "cell_type": "code",
   "execution_count": 1477,
   "id": "30ae89c0-7b61-43e8-b305-0dac0edbee4f",
   "metadata": {},
   "outputs": [],
   "source": [
    "application_cat.dropna(inplace=True)"
   ]
  },
  {
   "cell_type": "markdown",
   "id": "4f39499e-72cb-4c54-a87f-78bc795b3a64",
   "metadata": {},
   "source": [
    "#### Distribution and Transformation"
   ]
  },
  {
   "cell_type": "code",
   "execution_count": 1478,
   "id": "a9dab4fc-5bbb-4ca5-9553-671dc0665a1a",
   "metadata": {},
   "outputs": [
    {
     "data": {
      "text/html": [
       "<div>\n",
       "<style scoped>\n",
       "    .dataframe tbody tr th:only-of-type {\n",
       "        vertical-align: middle;\n",
       "    }\n",
       "\n",
       "    .dataframe tbody tr th {\n",
       "        vertical-align: top;\n",
       "    }\n",
       "\n",
       "    .dataframe thead th {\n",
       "        text-align: right;\n",
       "    }\n",
       "</style>\n",
       "<table border=\"1\" class=\"dataframe\">\n",
       "  <thead>\n",
       "    <tr style=\"text-align: right;\">\n",
       "      <th></th>\n",
       "      <th>id</th>\n",
       "      <th>cnt_children</th>\n",
       "      <th>cnt_fam_members</th>\n",
       "      <th>age</th>\n",
       "      <th>employed_since</th>\n",
       "    </tr>\n",
       "  </thead>\n",
       "  <tbody>\n",
       "    <tr>\n",
       "      <th>0</th>\n",
       "      <td>5008804</td>\n",
       "      <td>0</td>\n",
       "      <td>2.0</td>\n",
       "      <td>32</td>\n",
       "      <td>12</td>\n",
       "    </tr>\n",
       "    <tr>\n",
       "      <th>1</th>\n",
       "      <td>5008805</td>\n",
       "      <td>0</td>\n",
       "      <td>2.0</td>\n",
       "      <td>32</td>\n",
       "      <td>12</td>\n",
       "    </tr>\n",
       "    <tr>\n",
       "      <th>2</th>\n",
       "      <td>5008806</td>\n",
       "      <td>0</td>\n",
       "      <td>2.0</td>\n",
       "      <td>58</td>\n",
       "      <td>3</td>\n",
       "    </tr>\n",
       "    <tr>\n",
       "      <th>3</th>\n",
       "      <td>5008808</td>\n",
       "      <td>0</td>\n",
       "      <td>1.0</td>\n",
       "      <td>52</td>\n",
       "      <td>8</td>\n",
       "    </tr>\n",
       "    <tr>\n",
       "      <th>4</th>\n",
       "      <td>5008809</td>\n",
       "      <td>0</td>\n",
       "      <td>1.0</td>\n",
       "      <td>52</td>\n",
       "      <td>8</td>\n",
       "    </tr>\n",
       "  </tbody>\n",
       "</table>\n",
       "</div>"
      ],
      "text/plain": [
       "        id  cnt_children  cnt_fam_members  age  employed_since\n",
       "0  5008804             0              2.0   32              12\n",
       "1  5008805             0              2.0   32              12\n",
       "2  5008806             0              2.0   58               3\n",
       "3  5008808             0              1.0   52               8\n",
       "4  5008809             0              1.0   52               8"
      ]
     },
     "execution_count": 1478,
     "metadata": {},
     "output_type": "execute_result"
    }
   ],
   "source": [
    "application_num.head()"
   ]
  },
  {
   "cell_type": "code",
   "execution_count": 1479,
   "id": "a131ab3f-069c-461a-88b8-cc0c9ef88983",
   "metadata": {},
   "outputs": [
    {
     "data": {
      "text/plain": [
       "(array([1.72034e+05, 1.02431e+05, 4.47230e+04, 1.81890e+04, 8.99700e+03,\n",
       "        6.52200e+03, 3.26800e+03, 1.42100e+03, 4.52000e+02, 4.70000e+01]),\n",
       " array([ 0. ,  4.8,  9.6, 14.4, 19.2, 24. , 28.8, 33.6, 38.4, 43.2, 48. ]),\n",
       " <BarContainer object of 10 artists>)"
      ]
     },
     "execution_count": 1479,
     "metadata": {},
     "output_type": "execute_result"
    },
    {
     "data": {
      "image/png": "[encoded data removed]",
      "text/plain": [
       "<Figure size 432x288 with 4 Axes>"
      ]
     },
     "metadata": {
      "needs_background": "light"
     },
     "output_type": "display_data"
    }
   ],
   "source": [
    "# CHECKING DISTRIBUTION\n",
    "\n",
    "plt.subplot(2,2,1)\n",
    "plt.hist(application_num['cnt_children'])\n",
    "plt.subplot(2,2,2)\n",
    "plt.hist(application_num['cnt_fam_members'])\n",
    "plt.subplot(2,2,3)\n",
    "plt.hist(application_num['age'])\n",
    "plt.subplot(2,2,4)\n",
    "plt.hist(application_num['employed_since'])"
   ]
  },
  {
   "cell_type": "code",
   "execution_count": 1480,
   "id": "402b4616-8dc2-483c-bd69-4a9433628198",
   "metadata": {},
   "outputs": [],
   "source": [
    "# CHECKING SUITABLE TRANSFORMATION\n",
    "from sklearn.preprocessing import PowerTransformer, StandardScaler, MinMaxScaler"
   ]
  },
  {
   "cell_type": "code",
   "execution_count": 1481,
   "id": "5d792fc2-f23d-4feb-985a-a13a01990cee",
   "metadata": {},
   "outputs": [
    {
     "data": {
      "image/png": "[encoded data removed]",
      "text/plain": [
       "<Figure size 432x288 with 1 Axes>"
      ]
     },
     "metadata": {
      "needs_background": "light"
     },
     "output_type": "display_data"
    },
    {
     "data": {
      "image/png": "[encoded data removed]",
      "text/plain": [
       "<Figure size 432x288 with 1 Axes>"
      ]
     },
     "metadata": {
      "needs_background": "light"
     },
     "output_type": "display_data"
    }
   ],
   "source": [
    "# MinMaxSCALER for cnt children/family\n",
    "fam_scaled = MinMaxScaler().fit_transform(application_num[['cnt_fam_members']])\n",
    "plt.hist(fam_scaled)\n",
    "plt.show()\n",
    "\n",
    "children_scaled = MinMaxScaler().fit_transform(application_num[['cnt_children']])\n",
    "plt.hist(children_scaled)\n",
    "plt.show()"
   ]
  },
  {
   "cell_type": "code",
   "execution_count": 1482,
   "id": "e1ba65bd-2bd3-4bd1-9b1b-244f9e41d1c6",
   "metadata": {},
   "outputs": [
    {
     "data": {
      "image/png": "[encoded data removed]",
      "text/plain": [
       "<Figure size 432x288 with 1 Axes>"
      ]
     },
     "metadata": {
      "needs_background": "light"
     },
     "output_type": "display_data"
    },
    {
     "data": {
      "image/png": "[encoded data removed]",
      "text/plain": [
       "<Figure size 432x288 with 1 Axes>"
      ]
     },
     "metadata": {
      "needs_background": "light"
     },
     "output_type": "display_data"
    }
   ],
   "source": [
    "# PowerTransformer BOXCOX for AGE and EMPLOYED SINCE\n",
    "\n",
    "age_trans = trans.fit_transform(application_num[['age']])\n",
    "plt.hist(age_trans)\n",
    "plt.show()\n",
    "employed_trans = trans.fit_transform(application_num[['employed_since']])\n",
    "plt.hist(employed_trans)\n",
    "plt.show()"
   ]
  },
  {
   "cell_type": "code",
   "execution_count": 1483,
   "id": "79fecf03-937c-49f8-9ac4-1c6c69822f2d",
   "metadata": {},
   "outputs": [],
   "source": [
    "# Adding transformed data to df\n",
    "\n",
    "application_num_transformed = application_num.copy()\n",
    "\n",
    "application_num_transformed['age'] = age_trans\n",
    "application_num_transformed['employed_since'] = employed_trans\n",
    "application_num_transformed['cnt_children'] = children_scaled\n",
    "application_num_transformed['cnt_fam_members'] = fam_scaled"
   ]
  },
  {
   "cell_type": "markdown",
   "id": "717301e3-a389-4aec-9118-5c2f14ac9d47",
   "metadata": {},
   "source": [
    "### Feature Selection & Multicollinearity"
   ]
  },
  {
   "cell_type": "code",
   "execution_count": 1484,
   "id": "b911f74d-331f-4e59-a13e-2e7a37b8d7a3",
   "metadata": {},
   "outputs": [
    {
     "name": "stdout",
     "output_type": "stream",
     "text": [
      "(358084, 5)\n",
      "(358084, 14)\n",
      "(45985, 4)\n",
      "358053\n",
      "358053\n",
      "45985\n",
      "45985\n",
      "438510\n"
     ]
    }
   ],
   "source": [
    "# COMBINING DF\n",
    "print(application_num_transformed.shape)\n",
    "print(application_cat.shape)\n",
    "print(var_dep.shape)\n",
    "\n",
    "print(application_num_transformed['id'].nunique())\n",
    "print(application_cat['id'].nunique())\n",
    "print(var_dep['id'].nunique())\n",
    "print(credit_records['id'].nunique())\n",
    "print(application_records['id'].nunique())"
   ]
  },
  {
   "cell_type": "code",
   "execution_count": 1485,
   "id": "68c80695-0d92-470f-8da1-b868e2e8b895",
   "metadata": {},
   "outputs": [
    {
     "data": {
      "text/html": [
       "<div>\n",
       "<style scoped>\n",
       "    .dataframe tbody tr th:only-of-type {\n",
       "        vertical-align: middle;\n",
       "    }\n",
       "\n",
       "    .dataframe tbody tr th {\n",
       "        vertical-align: top;\n",
       "    }\n",
       "\n",
       "    .dataframe thead th {\n",
       "        text-align: right;\n",
       "    }\n",
       "</style>\n",
       "<table border=\"1\" class=\"dataframe\">\n",
       "  <thead>\n",
       "    <tr style=\"text-align: right;\">\n",
       "      <th></th>\n",
       "      <th>id</th>\n",
       "      <th>default_flag</th>\n",
       "    </tr>\n",
       "  </thead>\n",
       "  <tbody>\n",
       "    <tr>\n",
       "      <th>0</th>\n",
       "      <td>5001711</td>\n",
       "      <td>0</td>\n",
       "    </tr>\n",
       "    <tr>\n",
       "      <th>2</th>\n",
       "      <td>5001712</td>\n",
       "      <td>0</td>\n",
       "    </tr>\n",
       "    <tr>\n",
       "      <th>4</th>\n",
       "      <td>5001713</td>\n",
       "      <td>0</td>\n",
       "    </tr>\n",
       "    <tr>\n",
       "      <th>5</th>\n",
       "      <td>5001714</td>\n",
       "      <td>0</td>\n",
       "    </tr>\n",
       "    <tr>\n",
       "      <th>6</th>\n",
       "      <td>5001715</td>\n",
       "      <td>0</td>\n",
       "    </tr>\n",
       "    <tr>\n",
       "      <th>...</th>\n",
       "      <td>...</td>\n",
       "      <td>...</td>\n",
       "    </tr>\n",
       "    <tr>\n",
       "      <th>94136</th>\n",
       "      <td>5150482</td>\n",
       "      <td>0</td>\n",
       "    </tr>\n",
       "    <tr>\n",
       "      <th>94138</th>\n",
       "      <td>5150483</td>\n",
       "      <td>0</td>\n",
       "    </tr>\n",
       "    <tr>\n",
       "      <th>94139</th>\n",
       "      <td>5150484</td>\n",
       "      <td>0</td>\n",
       "    </tr>\n",
       "    <tr>\n",
       "      <th>94141</th>\n",
       "      <td>5150485</td>\n",
       "      <td>0</td>\n",
       "    </tr>\n",
       "    <tr>\n",
       "      <th>94142</th>\n",
       "      <td>5150487</td>\n",
       "      <td>0</td>\n",
       "    </tr>\n",
       "  </tbody>\n",
       "</table>\n",
       "<p>45985 rows × 2 columns</p>\n",
       "</div>"
      ],
      "text/plain": [
       "            id  default_flag\n",
       "0      5001711             0\n",
       "2      5001712             0\n",
       "4      5001713             0\n",
       "5      5001714             0\n",
       "6      5001715             0\n",
       "...        ...           ...\n",
       "94136  5150482             0\n",
       "94138  5150483             0\n",
       "94139  5150484             0\n",
       "94141  5150485             0\n",
       "94142  5150487             0\n",
       "\n",
       "[45985 rows x 2 columns]"
      ]
     },
     "execution_count": 1485,
     "metadata": {},
     "output_type": "execute_result"
    }
   ],
   "source": [
    "var_dep = var_dep.loc[:, ['id', 'default_flag']]\n",
    "var_dep"
   ]
  },
  {
   "cell_type": "code",
   "execution_count": 1531,
   "id": "d288b19c-b297-4487-b3f8-f9ef3cd63b42",
   "metadata": {},
   "outputs": [
    {
     "data": {
      "text/html": [
       "<div>\n",
       "<style scoped>\n",
       "    .dataframe tbody tr th:only-of-type {\n",
       "        vertical-align: middle;\n",
       "    }\n",
       "\n",
       "    .dataframe tbody tr th {\n",
       "        vertical-align: top;\n",
       "    }\n",
       "\n",
       "    .dataframe thead th {\n",
       "        text-align: right;\n",
       "    }\n",
       "</style>\n",
       "<table border=\"1\" class=\"dataframe\">\n",
       "  <thead>\n",
       "    <tr style=\"text-align: right;\">\n",
       "      <th></th>\n",
       "      <th>id</th>\n",
       "      <th>cnt_children</th>\n",
       "      <th>cnt_fam_members</th>\n",
       "      <th>age</th>\n",
       "      <th>employed_since</th>\n",
       "      <th>default_flag</th>\n",
       "    </tr>\n",
       "  </thead>\n",
       "  <tbody>\n",
       "    <tr>\n",
       "      <th>0</th>\n",
       "      <td>5008804</td>\n",
       "      <td>0.0</td>\n",
       "      <td>0.071429</td>\n",
       "      <td>-0.814979</td>\n",
       "      <td>1.008426</td>\n",
       "      <td>0</td>\n",
       "    </tr>\n",
       "    <tr>\n",
       "      <th>1</th>\n",
       "      <td>5008805</td>\n",
       "      <td>0.0</td>\n",
       "      <td>0.071429</td>\n",
       "      <td>-0.814979</td>\n",
       "      <td>1.008426</td>\n",
       "      <td>0</td>\n",
       "    </tr>\n",
       "    <tr>\n",
       "      <th>2</th>\n",
       "      <td>5008806</td>\n",
       "      <td>0.0</td>\n",
       "      <td>0.071429</td>\n",
       "      <td>1.717329</td>\n",
       "      <td>-0.386807</td>\n",
       "      <td>0</td>\n",
       "    </tr>\n",
       "    <tr>\n",
       "      <th>3</th>\n",
       "      <td>5008808</td>\n",
       "      <td>0.0</td>\n",
       "      <td>0.000000</td>\n",
       "      <td>1.213284</td>\n",
       "      <td>0.553697</td>\n",
       "      <td>0</td>\n",
       "    </tr>\n",
       "    <tr>\n",
       "      <th>4</th>\n",
       "      <td>5008809</td>\n",
       "      <td>0.0</td>\n",
       "      <td>0.000000</td>\n",
       "      <td>1.213284</td>\n",
       "      <td>0.553697</td>\n",
       "      <td>0</td>\n",
       "    </tr>\n",
       "    <tr>\n",
       "      <th>...</th>\n",
       "      <td>...</td>\n",
       "      <td>...</td>\n",
       "      <td>...</td>\n",
       "      <td>...</td>\n",
       "      <td>...</td>\n",
       "      <td>...</td>\n",
       "    </tr>\n",
       "    <tr>\n",
       "      <th>29865</th>\n",
       "      <td>5149828</td>\n",
       "      <td>0.0</td>\n",
       "      <td>0.071429</td>\n",
       "      <td>0.762906</td>\n",
       "      <td>0.253266</td>\n",
       "      <td>1</td>\n",
       "    </tr>\n",
       "    <tr>\n",
       "      <th>29866</th>\n",
       "      <td>5149834</td>\n",
       "      <td>0.0</td>\n",
       "      <td>0.071429</td>\n",
       "      <td>-0.696179</td>\n",
       "      <td>-0.386807</td>\n",
       "      <td>0</td>\n",
       "    </tr>\n",
       "    <tr>\n",
       "      <th>29867</th>\n",
       "      <td>5149838</td>\n",
       "      <td>0.0</td>\n",
       "      <td>0.071429</td>\n",
       "      <td>-0.696179</td>\n",
       "      <td>-0.386807</td>\n",
       "      <td>0</td>\n",
       "    </tr>\n",
       "    <tr>\n",
       "      <th>29868</th>\n",
       "      <td>5150049</td>\n",
       "      <td>0.0</td>\n",
       "      <td>0.071429</td>\n",
       "      <td>0.946693</td>\n",
       "      <td>-1.127225</td>\n",
       "      <td>0</td>\n",
       "    </tr>\n",
       "    <tr>\n",
       "      <th>29869</th>\n",
       "      <td>5150337</td>\n",
       "      <td>0.0</td>\n",
       "      <td>0.000000</td>\n",
       "      <td>-1.723538</td>\n",
       "      <td>-0.386807</td>\n",
       "      <td>0</td>\n",
       "    </tr>\n",
       "  </tbody>\n",
       "</table>\n",
       "<p>29870 rows × 6 columns</p>\n",
       "</div>"
      ],
      "text/plain": [
       "            id  cnt_children  cnt_fam_members       age  employed_since  \\\n",
       "0      5008804           0.0         0.071429 -0.814979        1.008426   \n",
       "1      5008805           0.0         0.071429 -0.814979        1.008426   \n",
       "2      5008806           0.0         0.071429  1.717329       -0.386807   \n",
       "3      5008808           0.0         0.000000  1.213284        0.553697   \n",
       "4      5008809           0.0         0.000000  1.213284        0.553697   \n",
       "...        ...           ...              ...       ...             ...   \n",
       "29865  5149828           0.0         0.071429  0.762906        0.253266   \n",
       "29866  5149834           0.0         0.071429 -0.696179       -0.386807   \n",
       "29867  5149838           0.0         0.071429 -0.696179       -0.386807   \n",
       "29868  5150049           0.0         0.071429  0.946693       -1.127225   \n",
       "29869  5150337           0.0         0.000000 -1.723538       -0.386807   \n",
       "\n",
       "       default_flag  \n",
       "0                 0  \n",
       "1                 0  \n",
       "2                 0  \n",
       "3                 0  \n",
       "4                 0  \n",
       "...             ...  \n",
       "29865             1  \n",
       "29866             0  \n",
       "29867             0  \n",
       "29868             0  \n",
       "29869             0  \n",
       "\n",
       "[29870 rows x 6 columns]"
      ]
     },
     "execution_count": 1531,
     "metadata": {},
     "output_type": "execute_result"
    }
   ],
   "source": [
    "# MERGING WITH DEPENDENT VARIABLE\n",
    "X_num_trans_y = pd.merge(application_num_transformed, var_dep, on = 'id')\n",
    "X_cat_y = pd.merge(application_cat, var_dep, on ='id')\n",
    "\n",
    "X_num_trans_y"
   ]
  },
  {
   "cell_type": "code",
   "execution_count": 1534,
   "id": "38af80a1-2701-45ed-b3be-09bdd78e1312",
   "metadata": {},
   "outputs": [
    {
     "data": {
      "text/plain": [
       "<seaborn.axisgrid.PairGrid at 0x7fa666737c10>"
      ]
     },
     "execution_count": 1534,
     "metadata": {},
     "output_type": "execute_result"
    },
    {
     "data": {
      "image/png": "[encoded data removed]",
      "text/plain": [
       "<Figure size 787.375x720 with 20 Axes>"
      ]
     },
     "metadata": {
      "needs_background": "light"
     },
     "output_type": "display_data"
    }
   ],
   "source": [
    "plot_data = X_num_trans_y.drop('id', axis= 1)\n",
    "sns.pairplot(plot_data, hue = 'default_flag')"
   ]
  },
  {
   "cell_type": "markdown",
   "id": "628b60f9-d106-4954-bb1a-abe873647290",
   "metadata": {},
   "source": [
    "#### Correlation Matrix"
   ]
  },
  {
   "cell_type": "code",
   "execution_count": 1550,
   "id": "229f2fdb-c7d1-4aba-b7a6-e0d9d1188349",
   "metadata": {},
   "outputs": [
    {
     "name": "stdout",
     "output_type": "stream",
     "text": [
      "                 cnt_children  cnt_fam_members       age  employed_since\n",
      "cnt_children         1.000000         0.900466 -0.238071       -0.033422\n",
      "cnt_fam_members      0.900466         1.000000 -0.194086       -0.014117\n",
      "age                 -0.238071        -0.194086  1.000000        0.300406\n",
      "employed_since      -0.033422        -0.014117  0.300406        1.000000\n"
     ]
    },
    {
     "data": {
      "text/plain": [
       "<AxesSubplot:>"
      ]
     },
     "execution_count": 1550,
     "metadata": {},
     "output_type": "execute_result"
    },
    {
     "data": {
      "image/png": "[encoded data removed]",
      "text/plain": [
       "<Figure size 432x288 with 2 Axes>"
      ]
     },
     "metadata": {
      "needs_background": "light"
     },
     "output_type": "display_data"
    }
   ],
   "source": [
    "# Checking with Correlation Matrix on the not merged datafr for numerical values: \n",
    "features = X_num_trans_y.drop(['id', 'default_flag'], axis= 1)\n",
    "corr = features.corr()\n",
    "print(corr)\n",
    "\n",
    "sns.heatmap(corr, annot=True) # We can see a high correlation between the amount of children and family members"
   ]
  },
  {
   "cell_type": "markdown",
   "id": "00636520-502a-4edb-8a52-c569ccf17d8b",
   "metadata": {},
   "source": [
    "#### Variance Inflation Factor"
   ]
  },
  {
   "cell_type": "code",
   "execution_count": 1551,
   "id": "c60c5b2d-1632-4e46-85aa-c00edd64478a",
   "metadata": {},
   "outputs": [
    {
     "data": {
      "text/html": [
       "<div>\n",
       "<style scoped>\n",
       "    .dataframe tbody tr th:only-of-type {\n",
       "        vertical-align: middle;\n",
       "    }\n",
       "\n",
       "    .dataframe tbody tr th {\n",
       "        vertical-align: top;\n",
       "    }\n",
       "\n",
       "    .dataframe thead th {\n",
       "        text-align: right;\n",
       "    }\n",
       "</style>\n",
       "<table border=\"1\" class=\"dataframe\">\n",
       "  <thead>\n",
       "    <tr style=\"text-align: right;\">\n",
       "      <th></th>\n",
       "      <th>features</th>\n",
       "      <th>vif_value</th>\n",
       "    </tr>\n",
       "  </thead>\n",
       "  <tbody>\n",
       "    <tr>\n",
       "      <th>0</th>\n",
       "      <td>cnt_children</td>\n",
       "      <td>4.850210</td>\n",
       "    </tr>\n",
       "    <tr>\n",
       "      <th>1</th>\n",
       "      <td>cnt_fam_members</td>\n",
       "      <td>4.718500</td>\n",
       "    </tr>\n",
       "    <tr>\n",
       "      <th>2</th>\n",
       "      <td>age</td>\n",
       "      <td>1.166159</td>\n",
       "    </tr>\n",
       "    <tr>\n",
       "      <th>3</th>\n",
       "      <td>employed_since</td>\n",
       "      <td>1.102008</td>\n",
       "    </tr>\n",
       "  </tbody>\n",
       "</table>\n",
       "</div>"
      ],
      "text/plain": [
       "          features  vif_value\n",
       "0     cnt_children   4.850210\n",
       "1  cnt_fam_members   4.718500\n",
       "2              age   1.166159\n",
       "3   employed_since   1.102008"
      ]
     },
     "execution_count": 1551,
     "metadata": {},
     "output_type": "execute_result"
    }
   ],
   "source": [
    "# Checking with VIR\n",
    "\n",
    "from statsmodels.stats.outliers_influence import variance_inflation_factor\n",
    "\n",
    "def calculate_vif(df):\n",
    "    vif = pd.DataFrame()\n",
    "    vif['features'] = df.columns\n",
    "    vif['vif_value'] = [variance_inflation_factor(df.values, i) for i in range(df.shape[1])]\n",
    "    return vif\n",
    "\n",
    "calculate_vif(features)"
   ]
  },
  {
   "cell_type": "code",
   "execution_count": 1489,
   "id": "8c4bc725-b6d6-4b3b-81b4-a3cc7da95351",
   "metadata": {},
   "outputs": [],
   "source": [
    "# Removing highly multicollinearity data: \n",
    "X_num_trans_y.drop('cnt_fam_members', axis = 1, inplace = True)"
   ]
  },
  {
   "cell_type": "markdown",
   "id": "87b672ca-a9e7-44bc-a810-66418fa221fa",
   "metadata": {},
   "source": [
    "#### Chi-2 Test"
   ]
  },
  {
   "cell_type": "code",
   "execution_count": 1510,
   "id": "a3f8e128-c852-48a2-a692-dcb2e6b125b7",
   "metadata": {},
   "outputs": [],
   "source": [
    "y = X_cat_y[['default_flag']]\n",
    "X = X_cat_y.drop(['id', 'default_flag'], axis = 1)"
   ]
  },
  {
   "cell_type": "code",
   "execution_count": 1527,
   "id": "615edbce-9d1d-4c50-85b5-c24b0d1027b2",
   "metadata": {},
   "outputs": [
    {
     "data": {
      "text/plain": [
       "<AxesSubplot:xlabel='default_flag', ylabel='income'>"
      ]
     },
     "execution_count": 1527,
     "metadata": {},
     "output_type": "execute_result"
    },
    {
     "data": {
      "image/png": "[encoded data removed]",
      "text/plain": [
       "<Figure size 432x288 with 1 Axes>"
      ]
     },
     "metadata": {
      "needs_background": "light"
     },
     "output_type": "display_data"
    }
   ],
   "source": [
    "plt.subplot(3,3,1)\n",
    "sns.histplot(y = X['income'], x=y['default_flag'])"
   ]
  },
  {
   "cell_type": "code",
   "execution_count": null,
   "id": "8b1743ce-8b83-4e4c-96fe-cc9a24426da9",
   "metadata": {},
   "outputs": [],
   "source": []
  },
  {
   "cell_type": "code",
   "execution_count": 1555,
   "id": "0f266e6a-e7fa-4776-9eac-6e6da2dc05bd",
   "metadata": {},
   "outputs": [
    {
     "data": {
      "text/plain": [
       "<seaborn.axisgrid.PairGrid at 0x7fa66e98cb50>"
      ]
     },
     "execution_count": 1555,
     "metadata": {},
     "output_type": "execute_result"
    },
    {
     "data": {
      "image/png": "[encoded data removed]",
      "text/plain": [
       "<Figure size 967.375x900 with 30 Axes>"
      ]
     },
     "metadata": {
      "needs_background": "light"
     },
     "output_type": "display_data"
    }
   ],
   "source": [
    "sns.pairplot(X_cat_y, hue = 'default_flag')"
   ]
  },
  {
   "cell_type": "markdown",
   "id": "e78690b8-58ac-417c-a91c-24db0e2316ac",
   "metadata": {},
   "source": [
    "##### Encoding Categorical "
   ]
  },
  {
   "cell_type": "code",
   "execution_count": 1496,
   "id": "bf11bf85-16cc-430b-aaa8-0eaa0cdb1037",
   "metadata": {},
   "outputs": [],
   "source": [
    "# ONE HOT ENCODER \n",
    "from sklearn.preprocessing import OneHotEncoder\n",
    "\n",
    "\n",
    "enc = OneHotEncoder(drop='first')\n",
    "X_encoded = enc.fit_transform(X).toarray()\n",
    "X = pd.DataFrame(X_encoded, columns = enc.get_feature_names_out())\n"
   ]
  },
  {
   "cell_type": "code",
   "execution_count": null,
   "id": "bfde55b9-5248-478a-b03f-894cf9e15619",
   "metadata": {},
   "outputs": [
    {
     "data": {
      "text/plain": [
       "0    20906\n",
       "1        3\n",
       "Name: default_flag, dtype: int64"
      ]
     },
     "execution_count": 1497,
     "metadata": {},
     "output_type": "execute_result"
    }
   ],
   "source": [
    "# PERFORM CHI2\n",
    "\n",
    "# X_y_split in order to avoid over fitting\n",
    "\n",
    "from sklearn.model_selection import train_test_split\n",
    "\n",
    "X_train, X_test, y_train, y_test = train_test_split(X,y, test_size = 0.3, random_state = 22 )\n",
    "X_train.head()\n",
    "y_train.value_counts() # there is a huge class imbalance \n"
   ]
  },
  {
   "cell_type": "code",
   "execution_count": 1498,
   "id": "5b0a7958-1a50-45bd-a3e8-a8125bd9a737",
   "metadata": {},
   "outputs": [
    {
     "data": {
      "text/plain": [
       "0    20906\n",
       "1    20906\n",
       "Name: default_flag, dtype: int64"
      ]
     },
     "execution_count": 1498,
     "metadata": {},
     "output_type": "execute_result"
    }
   ],
   "source": [
    "# Dealing with imbalanced Data\n",
    "\n",
    "from imblearn.over_sampling import SMOTE\n",
    "sm = SMOTE(k_neighbors=2)\n",
    "X_res, y_res = sm.fit_resample(X_train, y_train)\n",
    "\n",
    "y_res.value_counts()"
   ]
  },
  {
   "cell_type": "code",
   "execution_count": 1499,
   "id": "3c0f3e9f-a91e-40bb-90d6-09963e35d185",
   "metadata": {},
   "outputs": [
    {
     "name": "stdout",
     "output_type": "stream",
     "text": [
      "(array([  25.11862484,  159.09615235, 1562.88001857,   18.        ,\n",
      "       2041.        ,   32.64079686,  941.        , 1408.8887644 ,\n",
      "       4561.        , 1325.        , 1239.        ,  929.76286351,\n",
      "       1149.64951655, 5625.        ,   58.79057611, 2052.        ,\n",
      "       6018.        , 1637.        ,  550.        , 2384.        ]), array([5.39096567e-007, 1.78291876e-036, 0.00000000e+000, 2.20904970e-005,\n",
      "       0.00000000e+000, 1.10863110e-008, 1.19986175e-206, 2.45972187e-308,\n",
      "       0.00000000e+000, 4.17263799e-290, 2.03996658e-271, 3.32542808e-204,\n",
      "       5.34637980e-252, 0.00000000e+000, 1.75379253e-014, 0.00000000e+000,\n",
      "       0.00000000e+000, 0.00000000e+000, 1.25889679e-121, 0.00000000e+000]))\n"
     ]
    },
    {
     "data": {
      "text/plain": [
       "income_<=100k                               0.000000e+00\n",
       "income_300k-400k                            0.000000e+00\n",
       "flag_own_realty_Y                           0.000000e+00\n",
       "income_200k-300k                            0.000000e+00\n",
       "name_income_type_State servant              0.000000e+00\n",
       "flag_email_1                                0.000000e+00\n",
       "flag_work_phone_1                           0.000000e+00\n",
       "name_family_status_Not Married              0.000000e+00\n",
       "name_education_type_Secondary education    2.459722e-308\n",
       "name_housing_type_Rented apartment         4.172638e-290\n",
       "name_housing_type_With parents             2.039967e-271\n",
       "occupation_type_Others                     5.346380e-252\n",
       "name_education_type_Incomplete higher      1.199862e-206\n",
       "occupation_type_Laborers                   3.325428e-204\n",
       "income_400k+                               1.258897e-121\n",
       "flag_own_car_Y                              1.782919e-36\n",
       "flag_phone_1                                1.753793e-14\n",
       "name_income_type_Working                    1.108631e-08\n",
       "code_gender_M                               5.390966e-07\n",
       "name_income_type_Others                     2.209050e-05\n",
       "dtype: float64"
      ]
     },
     "execution_count": 1499,
     "metadata": {},
     "output_type": "execute_result"
    }
   ],
   "source": [
    "# Chi2 test\n",
    "\n",
    "from sklearn.feature_selection import chi2\n",
    "\n",
    "f_p_val = chi2(X_res, y_res)\n",
    "\n",
    "print(f_p_val)\n",
    "\n",
    "p_values = pd.Series(f_p_val[1])\n",
    "p_values.index=X.columns\n",
    "p_values.sort_values(ascending = True)"
   ]
  },
  {
   "cell_type": "code",
   "execution_count": null,
   "id": "32cf57fb-348b-466b-b455-bd332a822ce3",
   "metadata": {},
   "outputs": [],
   "source": []
  },
  {
   "cell_type": "markdown",
   "id": "e8f21e3c-afa3-45e2-9f1c-056e1b207872",
   "metadata": {},
   "source": [
    "# NEXT STEPS: \n",
    "\n",
    "1) concat num, cat \n",
    "\n",
    "2) train test split\n",
    "\n",
    "3) imbalance SMOTE\n",
    "\n",
    "5) logistic regression\n",
    "\n",
    "6) KNeigbhbors\n",
    "\n",
    "7) Decision Tree\n",
    "\n",
    "8) Random Forest\n",
    "\n",
    "9) CVM\n",
    "\n",
    "\n",
    "\n",
    "\n"
   ]
  },
  {
   "cell_type": "code",
   "execution_count": null,
   "id": "f8d524e5-8745-416e-92a8-4092c5ed1a02",
   "metadata": {},
   "outputs": [],
   "source": []
  }
 ],
 "metadata": {
  "kernelspec": {
   "display_name": "Python 3 (ipykernel)",
   "language": "python",
   "name": "python3"
  },
  "language_info": {
   "codemirror_mode": {
    "name": "ipython",
    "version": 3
   },
   "file_extension": ".py",
   "mimetype": "text/x-python",
   "name": "python",
   "nbconvert_exporter": "python",
   "pygments_lexer": "ipython3",
   "version": "3.9.7"
  }
 },
 "nbformat": 4,
 "nbformat_minor": 5
}
