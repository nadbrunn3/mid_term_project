{
 "cells": [
  {
   "cell_type": "markdown",
   "id": "df60779c-a87f-4885-9b49-2e1ee1e39c70",
   "metadata": {},
   "source": [
    "# Credit Card Approval Prediction\n"
   ]
  },
  {
   "cell_type": "markdown",
   "id": "2d9fd7a0-f5af-4c74-8a3b-ed082bae3c0c",
   "metadata": {},
   "source": [
    "## Context\n",
    "\n",
    "Credit score cards are a common risk control method in the financial industry. It uses personal information and data submitted by credit card applicants to predict the probability of future defaults and credit card borrowings. The bank is able to decide whether to issue a credit card to the applicant. Credit scores can objectively quantify the magnitude of risk.\n",
    "\n",
    "Generally speaking, credit score cards are based on historical data. Once encountering large economic fluctuations. Past models may lose their original predictive power. Logistic model is a common method for credit scoring. Because Logistic is suitable for binary classification tasks and can calculate the coefficients of each feature. In order to facilitate understanding and operation, the score card will multiply the logistic regression coefficient by a certain value (such as 100) and round it.\n",
    "\n",
    "At present, with the development of machine learning algorithms. More predictive methods such as Boosting, Random Forest, and Support Vector Machines have been introduced into credit card scoring. However, these methods often do not have good transparency. It may be difficult to provide customers and regulators with a reason for rejection or acceptance.\n",
    "\n",
    "## Task\n",
    "\n",
    "Build a machine learning model to predict if an applicant is 'good' or 'bad' client, different from other tasks, the definition of 'good' or 'bad' is not given. You should use some techique, such as vintage analysis to construct you label. Also, unbalance data problem is a big problem in this task."
   ]
  },
  {
   "cell_type": "code",
   "execution_count": 401,
   "id": "47169bf9-f7c3-4331-b0ef-86a93a3ee838",
   "metadata": {},
   "outputs": [],
   "source": [
    "import pandas as pd\n",
    "import numpy as np\n",
    "import seaborn as sns\n",
    "import matplotlib.pyplot as plt"
   ]
  },
  {
   "cell_type": "code",
   "execution_count": 402,
   "id": "559f3652-f59e-465d-b729-a10b8ed93cb2",
   "metadata": {},
   "outputs": [],
   "source": [
    "# There are 2 datasets \n",
    "\n",
    "# 1. application records (contains all information about the applicants)\n",
    "\n",
    "application_records = pd.read_csv('../../data/raw/application_record.csv')\n",
    "\n",
    "# 2. credit records (contains information about the loan and depth)\n",
    "\n",
    "credit_records = pd.read_csv('../../data/raw/credit_record.csv')"
   ]
  },
  {
   "cell_type": "markdown",
   "id": "25a29d72-7c3e-468f-95a5-baa726fd5c0a",
   "metadata": {},
   "source": [
    "# 1. Exploratory Data Analysis"
   ]
  },
  {
   "cell_type": "code",
   "execution_count": 403,
   "id": "c9aaf393-9399-439c-bba1-57cd24e5b4a7",
   "metadata": {},
   "outputs": [
    {
     "data": {
      "text/html": [
       "<div>\n",
       "<style scoped>\n",
       "    .dataframe tbody tr th:only-of-type {\n",
       "        vertical-align: middle;\n",
       "    }\n",
       "\n",
       "    .dataframe tbody tr th {\n",
       "        vertical-align: top;\n",
       "    }\n",
       "\n",
       "    .dataframe thead th {\n",
       "        text-align: right;\n",
       "    }\n",
       "</style>\n",
       "<table border=\"1\" class=\"dataframe\">\n",
       "  <thead>\n",
       "    <tr style=\"text-align: right;\">\n",
       "      <th></th>\n",
       "      <th>ID</th>\n",
       "      <th>CODE_GENDER</th>\n",
       "      <th>FLAG_OWN_CAR</th>\n",
       "      <th>FLAG_OWN_REALTY</th>\n",
       "      <th>CNT_CHILDREN</th>\n",
       "      <th>AMT_INCOME_TOTAL</th>\n",
       "      <th>NAME_INCOME_TYPE</th>\n",
       "      <th>NAME_EDUCATION_TYPE</th>\n",
       "      <th>NAME_FAMILY_STATUS</th>\n",
       "      <th>NAME_HOUSING_TYPE</th>\n",
       "      <th>DAYS_BIRTH</th>\n",
       "      <th>DAYS_EMPLOYED</th>\n",
       "      <th>FLAG_MOBIL</th>\n",
       "      <th>FLAG_WORK_PHONE</th>\n",
       "      <th>FLAG_PHONE</th>\n",
       "      <th>FLAG_EMAIL</th>\n",
       "      <th>OCCUPATION_TYPE</th>\n",
       "      <th>CNT_FAM_MEMBERS</th>\n",
       "    </tr>\n",
       "  </thead>\n",
       "  <tbody>\n",
       "    <tr>\n",
       "      <th>0</th>\n",
       "      <td>5008804</td>\n",
       "      <td>M</td>\n",
       "      <td>Y</td>\n",
       "      <td>Y</td>\n",
       "      <td>0</td>\n",
       "      <td>427500.0</td>\n",
       "      <td>Working</td>\n",
       "      <td>Higher education</td>\n",
       "      <td>Civil marriage</td>\n",
       "      <td>Rented apartment</td>\n",
       "      <td>-12005</td>\n",
       "      <td>-4542</td>\n",
       "      <td>1</td>\n",
       "      <td>1</td>\n",
       "      <td>0</td>\n",
       "      <td>0</td>\n",
       "      <td>NaN</td>\n",
       "      <td>2.0</td>\n",
       "    </tr>\n",
       "    <tr>\n",
       "      <th>1</th>\n",
       "      <td>5008805</td>\n",
       "      <td>M</td>\n",
       "      <td>Y</td>\n",
       "      <td>Y</td>\n",
       "      <td>0</td>\n",
       "      <td>427500.0</td>\n",
       "      <td>Working</td>\n",
       "      <td>Higher education</td>\n",
       "      <td>Civil marriage</td>\n",
       "      <td>Rented apartment</td>\n",
       "      <td>-12005</td>\n",
       "      <td>-4542</td>\n",
       "      <td>1</td>\n",
       "      <td>1</td>\n",
       "      <td>0</td>\n",
       "      <td>0</td>\n",
       "      <td>NaN</td>\n",
       "      <td>2.0</td>\n",
       "    </tr>\n",
       "    <tr>\n",
       "      <th>2</th>\n",
       "      <td>5008806</td>\n",
       "      <td>M</td>\n",
       "      <td>Y</td>\n",
       "      <td>Y</td>\n",
       "      <td>0</td>\n",
       "      <td>112500.0</td>\n",
       "      <td>Working</td>\n",
       "      <td>Secondary / secondary special</td>\n",
       "      <td>Married</td>\n",
       "      <td>House / apartment</td>\n",
       "      <td>-21474</td>\n",
       "      <td>-1134</td>\n",
       "      <td>1</td>\n",
       "      <td>0</td>\n",
       "      <td>0</td>\n",
       "      <td>0</td>\n",
       "      <td>Security staff</td>\n",
       "      <td>2.0</td>\n",
       "    </tr>\n",
       "    <tr>\n",
       "      <th>3</th>\n",
       "      <td>5008808</td>\n",
       "      <td>F</td>\n",
       "      <td>N</td>\n",
       "      <td>Y</td>\n",
       "      <td>0</td>\n",
       "      <td>270000.0</td>\n",
       "      <td>Commercial associate</td>\n",
       "      <td>Secondary / secondary special</td>\n",
       "      <td>Single / not married</td>\n",
       "      <td>House / apartment</td>\n",
       "      <td>-19110</td>\n",
       "      <td>-3051</td>\n",
       "      <td>1</td>\n",
       "      <td>0</td>\n",
       "      <td>1</td>\n",
       "      <td>1</td>\n",
       "      <td>Sales staff</td>\n",
       "      <td>1.0</td>\n",
       "    </tr>\n",
       "    <tr>\n",
       "      <th>4</th>\n",
       "      <td>5008809</td>\n",
       "      <td>F</td>\n",
       "      <td>N</td>\n",
       "      <td>Y</td>\n",
       "      <td>0</td>\n",
       "      <td>270000.0</td>\n",
       "      <td>Commercial associate</td>\n",
       "      <td>Secondary / secondary special</td>\n",
       "      <td>Single / not married</td>\n",
       "      <td>House / apartment</td>\n",
       "      <td>-19110</td>\n",
       "      <td>-3051</td>\n",
       "      <td>1</td>\n",
       "      <td>0</td>\n",
       "      <td>1</td>\n",
       "      <td>1</td>\n",
       "      <td>Sales staff</td>\n",
       "      <td>1.0</td>\n",
       "    </tr>\n",
       "  </tbody>\n",
       "</table>\n",
       "</div>"
      ],
      "text/plain": [
       "        ID CODE_GENDER FLAG_OWN_CAR FLAG_OWN_REALTY  CNT_CHILDREN  \\\n",
       "0  5008804           M            Y               Y             0   \n",
       "1  5008805           M            Y               Y             0   \n",
       "2  5008806           M            Y               Y             0   \n",
       "3  5008808           F            N               Y             0   \n",
       "4  5008809           F            N               Y             0   \n",
       "\n",
       "   AMT_INCOME_TOTAL      NAME_INCOME_TYPE            NAME_EDUCATION_TYPE  \\\n",
       "0          427500.0               Working               Higher education   \n",
       "1          427500.0               Working               Higher education   \n",
       "2          112500.0               Working  Secondary / secondary special   \n",
       "3          270000.0  Commercial associate  Secondary / secondary special   \n",
       "4          270000.0  Commercial associate  Secondary / secondary special   \n",
       "\n",
       "     NAME_FAMILY_STATUS  NAME_HOUSING_TYPE  DAYS_BIRTH  DAYS_EMPLOYED  \\\n",
       "0        Civil marriage   Rented apartment      -12005          -4542   \n",
       "1        Civil marriage   Rented apartment      -12005          -4542   \n",
       "2               Married  House / apartment      -21474          -1134   \n",
       "3  Single / not married  House / apartment      -19110          -3051   \n",
       "4  Single / not married  House / apartment      -19110          -3051   \n",
       "\n",
       "   FLAG_MOBIL  FLAG_WORK_PHONE  FLAG_PHONE  FLAG_EMAIL OCCUPATION_TYPE  \\\n",
       "0           1                1           0           0             NaN   \n",
       "1           1                1           0           0             NaN   \n",
       "2           1                0           0           0  Security staff   \n",
       "3           1                0           1           1     Sales staff   \n",
       "4           1                0           1           1     Sales staff   \n",
       "\n",
       "   CNT_FAM_MEMBERS  \n",
       "0              2.0  \n",
       "1              2.0  \n",
       "2              2.0  \n",
       "3              1.0  \n",
       "4              1.0  "
      ]
     },
     "metadata": {},
     "output_type": "display_data"
    },
    {
     "data": {
      "text/html": [
       "<div>\n",
       "<style scoped>\n",
       "    .dataframe tbody tr th:only-of-type {\n",
       "        vertical-align: middle;\n",
       "    }\n",
       "\n",
       "    .dataframe tbody tr th {\n",
       "        vertical-align: top;\n",
       "    }\n",
       "\n",
       "    .dataframe thead th {\n",
       "        text-align: right;\n",
       "    }\n",
       "</style>\n",
       "<table border=\"1\" class=\"dataframe\">\n",
       "  <thead>\n",
       "    <tr style=\"text-align: right;\">\n",
       "      <th></th>\n",
       "      <th>ID</th>\n",
       "      <th>MONTHS_BALANCE</th>\n",
       "      <th>STATUS</th>\n",
       "    </tr>\n",
       "  </thead>\n",
       "  <tbody>\n",
       "    <tr>\n",
       "      <th>0</th>\n",
       "      <td>5001711</td>\n",
       "      <td>0</td>\n",
       "      <td>X</td>\n",
       "    </tr>\n",
       "    <tr>\n",
       "      <th>1</th>\n",
       "      <td>5001711</td>\n",
       "      <td>-1</td>\n",
       "      <td>0</td>\n",
       "    </tr>\n",
       "    <tr>\n",
       "      <th>2</th>\n",
       "      <td>5001711</td>\n",
       "      <td>-2</td>\n",
       "      <td>0</td>\n",
       "    </tr>\n",
       "    <tr>\n",
       "      <th>3</th>\n",
       "      <td>5001711</td>\n",
       "      <td>-3</td>\n",
       "      <td>0</td>\n",
       "    </tr>\n",
       "    <tr>\n",
       "      <th>4</th>\n",
       "      <td>5001712</td>\n",
       "      <td>0</td>\n",
       "      <td>C</td>\n",
       "    </tr>\n",
       "  </tbody>\n",
       "</table>\n",
       "</div>"
      ],
      "text/plain": [
       "        ID  MONTHS_BALANCE STATUS\n",
       "0  5001711               0      X\n",
       "1  5001711              -1      0\n",
       "2  5001711              -2      0\n",
       "3  5001711              -3      0\n",
       "4  5001712               0      C"
      ]
     },
     "metadata": {},
     "output_type": "display_data"
    }
   ],
   "source": [
    "display(application_records.head())\n",
    "display(credit_records.head())"
   ]
  },
  {
   "cell_type": "code",
   "execution_count": 404,
   "id": "384513a7-7dbf-4c0d-9980-5a815db1227c",
   "metadata": {
    "tags": []
   },
   "outputs": [],
   "source": [
    "# Standardizing the column names for both files: \n",
    "\n",
    "def columns(x):\n",
    "    return x.lower()\n",
    "\n",
    "application_records.columns = list(map(columns, application_records.columns))\n",
    "credit_records.columns = list(map(columns, credit_records.columns))\n"
   ]
  },
  {
   "cell_type": "code",
   "execution_count": 405,
   "id": "88a01a4e-273b-49d6-9b4d-02108dcccc22",
   "metadata": {},
   "outputs": [
    {
     "name": "stdout",
     "output_type": "stream",
     "text": [
      "Application Records = (438557, 18)\n",
      "Credit Records = (1048575, 3)\n"
     ]
    }
   ],
   "source": [
    "# Checking if the data of the two files match in length: \n",
    "\n",
    "print('Application Records = {}'.format(application_records.shape))\n",
    "print('Credit Records = {}'.format(credit_records.shape))\n",
    "\n",
    "#There is a big difference in data length in the two files"
   ]
  },
  {
   "cell_type": "code",
   "execution_count": null,
   "id": "f0f49acc-871b-4aa7-bcc0-db0b325e116c",
   "metadata": {},
   "outputs": [],
   "source": []
  },
  {
   "cell_type": "markdown",
   "id": "67a9bac4-f7e5-4ad8-a9e5-64f9213d07ad",
   "metadata": {},
   "source": [
    "## Predicted Feature\n",
    "\n",
    "**Column Status:** \n",
    "\n",
    "- 0: 1-29 days past due\n",
    "- 1: 30-59 days past due\n",
    "- 2: 60-89 days overdue\n",
    "- 3: 90-119 days overdue\n",
    "- 4: 120-149 days overdue\n",
    "- 5: Overdue or bad debts, write-offs for more than 150 days\n",
    "- C: paid off that month\n",
    "- X: No loan for the month\n",
    "\n",
    "\n",
    "\n",
    "**Column Months_Balance:**\n",
    "\n",
    "The month of the extracted data is the starting point, backwards\n",
    "\n",
    "- 0: current month\n",
    "- -1: previous month\n",
    "- ...\n"
   ]
  },
  {
   "cell_type": "code",
   "execution_count": 406,
   "id": "45fc3d24-c5d6-4e7d-82e1-a0e7bba814f5",
   "metadata": {},
   "outputs": [
    {
     "name": "stdout",
     "output_type": "stream",
     "text": [
      "(1048575, 3)\n"
     ]
    },
    {
     "data": {
      "text/plain": [
       "45985"
      ]
     },
     "execution_count": 406,
     "metadata": {},
     "output_type": "execute_result"
    }
   ],
   "source": [
    "print(credit_records.shape)\n",
    "credit_records['id'].nunique()"
   ]
  },
  {
   "cell_type": "code",
   "execution_count": 407,
   "id": "72dc51cc-3f35-4712-a89c-e056bef6e83e",
   "metadata": {},
   "outputs": [
    {
     "data": {
      "text/plain": [
       "C    442031\n",
       "0    383120\n",
       "X    209230\n",
       "1     11090\n",
       "5      1693\n",
       "2       868\n",
       "3       320\n",
       "4       223\n",
       "Name: status, dtype: int64"
      ]
     },
     "execution_count": 407,
     "metadata": {},
     "output_type": "execute_result"
    }
   ],
   "source": [
    "credit_records['status'].value_counts()"
   ]
  },
  {
   "cell_type": "code",
   "execution_count": 408,
   "id": "ee567a57-facc-4887-8c11-2cca31737f2c",
   "metadata": {},
   "outputs": [
    {
     "data": {
      "text/html": [
       "<div>\n",
       "<style scoped>\n",
       "    .dataframe tbody tr th:only-of-type {\n",
       "        vertical-align: middle;\n",
       "    }\n",
       "\n",
       "    .dataframe tbody tr th {\n",
       "        vertical-align: top;\n",
       "    }\n",
       "\n",
       "    .dataframe thead th {\n",
       "        text-align: right;\n",
       "    }\n",
       "</style>\n",
       "<table border=\"1\" class=\"dataframe\">\n",
       "  <thead>\n",
       "    <tr style=\"text-align: right;\">\n",
       "      <th></th>\n",
       "      <th>id</th>\n",
       "      <th>status</th>\n",
       "      <th>months_balance</th>\n",
       "    </tr>\n",
       "  </thead>\n",
       "  <tbody>\n",
       "    <tr>\n",
       "      <th>0</th>\n",
       "      <td>5001711</td>\n",
       "      <td>0</td>\n",
       "      <td>3</td>\n",
       "    </tr>\n",
       "    <tr>\n",
       "      <th>1</th>\n",
       "      <td>5001711</td>\n",
       "      <td>X</td>\n",
       "      <td>1</td>\n",
       "    </tr>\n",
       "    <tr>\n",
       "      <th>2</th>\n",
       "      <td>5001712</td>\n",
       "      <td>0</td>\n",
       "      <td>10</td>\n",
       "    </tr>\n",
       "    <tr>\n",
       "      <th>3</th>\n",
       "      <td>5001712</td>\n",
       "      <td>C</td>\n",
       "      <td>9</td>\n",
       "    </tr>\n",
       "    <tr>\n",
       "      <th>4</th>\n",
       "      <td>5001713</td>\n",
       "      <td>X</td>\n",
       "      <td>22</td>\n",
       "    </tr>\n",
       "    <tr>\n",
       "      <th>...</th>\n",
       "      <td>...</td>\n",
       "      <td>...</td>\n",
       "      <td>...</td>\n",
       "    </tr>\n",
       "    <tr>\n",
       "      <th>94138</th>\n",
       "      <td>5150483</td>\n",
       "      <td>X</td>\n",
       "      <td>18</td>\n",
       "    </tr>\n",
       "    <tr>\n",
       "      <th>94139</th>\n",
       "      <td>5150484</td>\n",
       "      <td>0</td>\n",
       "      <td>12</td>\n",
       "    </tr>\n",
       "    <tr>\n",
       "      <th>94140</th>\n",
       "      <td>5150484</td>\n",
       "      <td>C</td>\n",
       "      <td>1</td>\n",
       "    </tr>\n",
       "    <tr>\n",
       "      <th>94141</th>\n",
       "      <td>5150485</td>\n",
       "      <td>0</td>\n",
       "      <td>2</td>\n",
       "    </tr>\n",
       "    <tr>\n",
       "      <th>94142</th>\n",
       "      <td>5150487</td>\n",
       "      <td>C</td>\n",
       "      <td>30</td>\n",
       "    </tr>\n",
       "  </tbody>\n",
       "</table>\n",
       "<p>94143 rows × 3 columns</p>\n",
       "</div>"
      ],
      "text/plain": [
       "            id status  months_balance\n",
       "0      5001711      0               3\n",
       "1      5001711      X               1\n",
       "2      5001712      0              10\n",
       "3      5001712      C               9\n",
       "4      5001713      X              22\n",
       "...        ...    ...             ...\n",
       "94138  5150483      X              18\n",
       "94139  5150484      0              12\n",
       "94140  5150484      C               1\n",
       "94141  5150485      0               2\n",
       "94142  5150487      C              30\n",
       "\n",
       "[94143 rows x 3 columns]"
      ]
     },
     "execution_count": 408,
     "metadata": {},
     "output_type": "execute_result"
    }
   ],
   "source": [
    "pivot_tb = pd.pivot_table(credit_records, index = ['id', 'status'], aggfunc = 'count').reset_index()\n",
    "pivot_tb\n"
   ]
  },
  {
   "cell_type": "markdown",
   "id": "8f512e3a-681c-4a7d-8150-dfe608debf62",
   "metadata": {},
   "source": [
    "### Labeling the customers"
   ]
  },
  {
   "cell_type": "code",
   "execution_count": 409,
   "id": "025f8285-cc45-4a1a-ada6-ce046fef3aba",
   "metadata": {},
   "outputs": [
    {
     "data": {
      "text/plain": [
       "[0.869, 0.113, 0.013, 0.0058, 0.00413, 0.00424]"
      ]
     },
     "execution_count": 409,
     "metadata": {},
     "output_type": "execute_result"
    }
   ],
   "source": [
    "# Find percentage of customers for each status\n",
    "\n",
    "ratio_overdue = []\n",
    "\n",
    "# ratio of customers overdue more than 1 day:\n",
    "overdue0 = round(len(pivot_tb[pivot_tb['status'] == '0']) / pivot_tb['id'].nunique(), 3)\n",
    "ratio_overdue.append(overdue0)\n",
    "\n",
    "# ratio of customers overdue more than 30 days:\n",
    "overdue1 = round(len(pivot_tb[pivot_tb['status'] == '1']) / pivot_tb['id'].nunique(), 3)\n",
    "ratio_overdue.append(overdue1)\n",
    "\n",
    "# ratio of customers overdue more than 60 day:\n",
    "overdue2 = round(len(pivot_tb[pivot_tb['status'] == '2']) / pivot_tb['id'].nunique(), 4)\n",
    "ratio_overdue.append(overdue2)\n",
    "\n",
    "# ratio of customers overdue more than 90 day:\n",
    "overdue3 = round(len(pivot_tb[pivot_tb['status'] == '3']) / pivot_tb['id'].nunique(), 4)\n",
    "ratio_overdue.append(overdue3)\n",
    "                     \n",
    "# ratio of customers overdue more than 120 day:\n",
    "overdue4 = round(len(pivot_tb[pivot_tb['status'] == '4']) / pivot_tb['id'].nunique(), 5)\n",
    "ratio_overdue.append(overdue4)\n",
    "\n",
    "# ratio of customers overdue more than 150 day:\n",
    "overdue5 = round(len(pivot_tb[pivot_tb['status'] == '5']) / pivot_tb['id'].nunique(), 5)\n",
    "ratio_overdue.append(overdue5)\n",
    "\n",
    "ratio_overdue"
   ]
  },
  {
   "cell_type": "code",
   "execution_count": 410,
   "id": "a1c2819f-54f5-4b29-9091-a0654fcdd2f4",
   "metadata": {},
   "outputs": [
    {
     "data": {
      "text/html": [
       "<div>\n",
       "<style scoped>\n",
       "    .dataframe tbody tr th:only-of-type {\n",
       "        vertical-align: middle;\n",
       "    }\n",
       "\n",
       "    .dataframe tbody tr th {\n",
       "        vertical-align: top;\n",
       "    }\n",
       "\n",
       "    .dataframe thead th {\n",
       "        text-align: right;\n",
       "    }\n",
       "</style>\n",
       "<table border=\"1\" class=\"dataframe\">\n",
       "  <thead>\n",
       "    <tr style=\"text-align: right;\">\n",
       "      <th></th>\n",
       "      <th>default</th>\n",
       "      <th>ratio</th>\n",
       "    </tr>\n",
       "  </thead>\n",
       "  <tbody>\n",
       "    <tr>\n",
       "      <th>0</th>\n",
       "      <td>&gt;1</td>\n",
       "      <td>0.86900</td>\n",
       "    </tr>\n",
       "    <tr>\n",
       "      <th>1</th>\n",
       "      <td>&gt;30</td>\n",
       "      <td>0.11300</td>\n",
       "    </tr>\n",
       "    <tr>\n",
       "      <th>2</th>\n",
       "      <td>&gt;60</td>\n",
       "      <td>0.01300</td>\n",
       "    </tr>\n",
       "    <tr>\n",
       "      <th>3</th>\n",
       "      <td>&gt;90</td>\n",
       "      <td>0.00580</td>\n",
       "    </tr>\n",
       "    <tr>\n",
       "      <th>4</th>\n",
       "      <td>&gt;120</td>\n",
       "      <td>0.00413</td>\n",
       "    </tr>\n",
       "    <tr>\n",
       "      <th>5</th>\n",
       "      <td>&gt;150</td>\n",
       "      <td>0.00424</td>\n",
       "    </tr>\n",
       "  </tbody>\n",
       "</table>\n",
       "</div>"
      ],
      "text/plain": [
       "  default    ratio\n",
       "0      >1  0.86900\n",
       "1     >30  0.11300\n",
       "2     >60  0.01300\n",
       "3     >90  0.00580\n",
       "4    >120  0.00413\n",
       "5    >150  0.00424"
      ]
     },
     "execution_count": 410,
     "metadata": {},
     "output_type": "execute_result"
    }
   ],
   "source": [
    "# Creating a Dictonary and a Dataframe out of the caculated ratio.\n",
    "\n",
    "dict = {'default': ['>1', '>30', '>60', '>90', '>120', '>150'], \n",
    "       'ratio': ratio_overdue}\n",
    "\n",
    "pd.DataFrame.from_dict(dict)\n"
   ]
  },
  {
   "cell_type": "markdown",
   "id": "c7ca5a73-f616-4067-8c3e-52dfb8dba647",
   "metadata": {},
   "source": [
    "The percentage of customers who are overdue more than 1 day lies by 87%. If we would consider customers with STATUS 0 as RISK Customers this would lead to a lot of people being classified as bad. Those would not receive a loan. However the bank would also loose a lot of profit by being too risk averse. \n",
    "\n",
    "Considering the customers with more than 30 day overdue also leads to a relative high amount of customers classified as bad. More than 10% of customers are overdue more than 30days at least once. \n",
    "\n",
    "Customers overdue more than 60 days are already at a reasonable percentag of 1.3% \n",
    "\n",
    "**---> Customers >= STATUS 2 will be labeled as RISK!** \n"
   ]
  },
  {
   "cell_type": "code",
   "execution_count": 411,
   "id": "1d4a5d4f-9d14-4928-9e85-6e2b025defc5",
   "metadata": {},
   "outputs": [
    {
     "data": {
      "text/html": [
       "<div>\n",
       "<style scoped>\n",
       "    .dataframe tbody tr th:only-of-type {\n",
       "        vertical-align: middle;\n",
       "    }\n",
       "\n",
       "    .dataframe tbody tr th {\n",
       "        vertical-align: top;\n",
       "    }\n",
       "\n",
       "    .dataframe thead th {\n",
       "        text-align: right;\n",
       "    }\n",
       "</style>\n",
       "<table border=\"1\" class=\"dataframe\">\n",
       "  <thead>\n",
       "    <tr style=\"text-align: right;\">\n",
       "      <th></th>\n",
       "      <th>id</th>\n",
       "      <th>status</th>\n",
       "      <th>months_balance</th>\n",
       "      <th>default_flag</th>\n",
       "    </tr>\n",
       "  </thead>\n",
       "  <tbody>\n",
       "    <tr>\n",
       "      <th>0</th>\n",
       "      <td>5001711</td>\n",
       "      <td>0</td>\n",
       "      <td>3</td>\n",
       "      <td>0</td>\n",
       "    </tr>\n",
       "    <tr>\n",
       "      <th>1</th>\n",
       "      <td>5001711</td>\n",
       "      <td>X</td>\n",
       "      <td>1</td>\n",
       "      <td>0</td>\n",
       "    </tr>\n",
       "    <tr>\n",
       "      <th>2</th>\n",
       "      <td>5001712</td>\n",
       "      <td>0</td>\n",
       "      <td>10</td>\n",
       "      <td>0</td>\n",
       "    </tr>\n",
       "    <tr>\n",
       "      <th>3</th>\n",
       "      <td>5001712</td>\n",
       "      <td>C</td>\n",
       "      <td>9</td>\n",
       "      <td>0</td>\n",
       "    </tr>\n",
       "    <tr>\n",
       "      <th>4</th>\n",
       "      <td>5001713</td>\n",
       "      <td>X</td>\n",
       "      <td>22</td>\n",
       "      <td>0</td>\n",
       "    </tr>\n",
       "  </tbody>\n",
       "</table>\n",
       "</div>"
      ],
      "text/plain": [
       "        id status  months_balance  default_flag\n",
       "0  5001711      0               3             0\n",
       "1  5001711      X               1             0\n",
       "2  5001712      0              10             0\n",
       "3  5001712      C               9             0\n",
       "4  5001713      X              22             0"
      ]
     },
     "execution_count": 411,
     "metadata": {},
     "output_type": "execute_result"
    }
   ],
   "source": [
    "# Flag Customers as 1 or 0. 1 = RISK / 0 = NO RISK\n",
    "\n",
    "pivot_tb['default_flag'] = [0 if i in ['X', '0', '1', 'C'] else 1 for i in pivot_tb['status']] #each Status per customer will be flagged\n",
    "pivot_tb.head()\n",
    "\n",
    "# this approach leads to several values per customer -> however I am only interested in weather the customer is classified as riks or no risk. "
   ]
  },
  {
   "cell_type": "code",
   "execution_count": 412,
   "id": "1d061e60-c171-44a2-ac63-4a26584d19cc",
   "metadata": {},
   "outputs": [],
   "source": [
    "# A customer which has one or more month with a status higher than 2 will be classified as RISK\n",
    "\n",
    "# 1. Compute the sum of all status labels per customer\n",
    "flagged = pd.pivot_table(pivot_tb, index = 'id', values = 'default_flag', aggfunc = 'sum').reset_index()\n",
    "\n",
    "# 2. if a customer has on ore more values flagged as 1, the overall lable will be RISK\n",
    "pivot_tb['default_flag'] = pivot_tb['default_flag'].apply(lambda x: 1 if x >= 1 else 0) #save in a new column"
   ]
  },
  {
   "cell_type": "code",
   "execution_count": 413,
   "id": "58263924-f550-4a69-b793-b58f70e47e1e",
   "metadata": {},
   "outputs": [
    {
     "data": {
      "text/plain": [
       "0    92893\n",
       "1     1250\n",
       "Name: default_flag, dtype: int64"
      ]
     },
     "execution_count": 413,
     "metadata": {},
     "output_type": "execute_result"
    }
   ],
   "source": [
    "# Checking for plausability of calculation:\n",
    "\n",
    "pivot_tb['default_flag'].value_counts()\n",
    "\n",
    "# -- > There is a CLASS IMBALANCE"
   ]
  },
  {
   "cell_type": "markdown",
   "id": "495b8a79-f1c2-481f-bc6a-a7206cab207f",
   "metadata": {},
   "source": [
    "## Dependent Features"
   ]
  },
  {
   "cell_type": "code",
   "execution_count": 414,
   "id": "a4a4087a-50fd-4354-8a56-e3b8ce55dcb8",
   "metadata": {},
   "outputs": [
    {
     "data": {
      "text/html": [
       "<div>\n",
       "<style scoped>\n",
       "    .dataframe tbody tr th:only-of-type {\n",
       "        vertical-align: middle;\n",
       "    }\n",
       "\n",
       "    .dataframe tbody tr th {\n",
       "        vertical-align: top;\n",
       "    }\n",
       "\n",
       "    .dataframe thead th {\n",
       "        text-align: right;\n",
       "    }\n",
       "</style>\n",
       "<table border=\"1\" class=\"dataframe\">\n",
       "  <thead>\n",
       "    <tr style=\"text-align: right;\">\n",
       "      <th></th>\n",
       "      <th>id</th>\n",
       "      <th>code_gender</th>\n",
       "      <th>flag_own_car</th>\n",
       "      <th>flag_own_realty</th>\n",
       "      <th>cnt_children</th>\n",
       "      <th>amt_income_total</th>\n",
       "      <th>name_income_type</th>\n",
       "      <th>name_education_type</th>\n",
       "      <th>name_family_status</th>\n",
       "      <th>name_housing_type</th>\n",
       "      <th>days_birth</th>\n",
       "      <th>days_employed</th>\n",
       "      <th>flag_mobil</th>\n",
       "      <th>flag_work_phone</th>\n",
       "      <th>flag_phone</th>\n",
       "      <th>flag_email</th>\n",
       "      <th>occupation_type</th>\n",
       "      <th>cnt_fam_members</th>\n",
       "    </tr>\n",
       "  </thead>\n",
       "  <tbody>\n",
       "    <tr>\n",
       "      <th>0</th>\n",
       "      <td>5008804</td>\n",
       "      <td>M</td>\n",
       "      <td>Y</td>\n",
       "      <td>Y</td>\n",
       "      <td>0</td>\n",
       "      <td>427500.0</td>\n",
       "      <td>Working</td>\n",
       "      <td>Higher education</td>\n",
       "      <td>Civil marriage</td>\n",
       "      <td>Rented apartment</td>\n",
       "      <td>-12005</td>\n",
       "      <td>-4542</td>\n",
       "      <td>1</td>\n",
       "      <td>1</td>\n",
       "      <td>0</td>\n",
       "      <td>0</td>\n",
       "      <td>NaN</td>\n",
       "      <td>2.0</td>\n",
       "    </tr>\n",
       "    <tr>\n",
       "      <th>1</th>\n",
       "      <td>5008805</td>\n",
       "      <td>M</td>\n",
       "      <td>Y</td>\n",
       "      <td>Y</td>\n",
       "      <td>0</td>\n",
       "      <td>427500.0</td>\n",
       "      <td>Working</td>\n",
       "      <td>Higher education</td>\n",
       "      <td>Civil marriage</td>\n",
       "      <td>Rented apartment</td>\n",
       "      <td>-12005</td>\n",
       "      <td>-4542</td>\n",
       "      <td>1</td>\n",
       "      <td>1</td>\n",
       "      <td>0</td>\n",
       "      <td>0</td>\n",
       "      <td>NaN</td>\n",
       "      <td>2.0</td>\n",
       "    </tr>\n",
       "    <tr>\n",
       "      <th>2</th>\n",
       "      <td>5008806</td>\n",
       "      <td>M</td>\n",
       "      <td>Y</td>\n",
       "      <td>Y</td>\n",
       "      <td>0</td>\n",
       "      <td>112500.0</td>\n",
       "      <td>Working</td>\n",
       "      <td>Secondary / secondary special</td>\n",
       "      <td>Married</td>\n",
       "      <td>House / apartment</td>\n",
       "      <td>-21474</td>\n",
       "      <td>-1134</td>\n",
       "      <td>1</td>\n",
       "      <td>0</td>\n",
       "      <td>0</td>\n",
       "      <td>0</td>\n",
       "      <td>Security staff</td>\n",
       "      <td>2.0</td>\n",
       "    </tr>\n",
       "    <tr>\n",
       "      <th>3</th>\n",
       "      <td>5008808</td>\n",
       "      <td>F</td>\n",
       "      <td>N</td>\n",
       "      <td>Y</td>\n",
       "      <td>0</td>\n",
       "      <td>270000.0</td>\n",
       "      <td>Commercial associate</td>\n",
       "      <td>Secondary / secondary special</td>\n",
       "      <td>Single / not married</td>\n",
       "      <td>House / apartment</td>\n",
       "      <td>-19110</td>\n",
       "      <td>-3051</td>\n",
       "      <td>1</td>\n",
       "      <td>0</td>\n",
       "      <td>1</td>\n",
       "      <td>1</td>\n",
       "      <td>Sales staff</td>\n",
       "      <td>1.0</td>\n",
       "    </tr>\n",
       "    <tr>\n",
       "      <th>4</th>\n",
       "      <td>5008809</td>\n",
       "      <td>F</td>\n",
       "      <td>N</td>\n",
       "      <td>Y</td>\n",
       "      <td>0</td>\n",
       "      <td>270000.0</td>\n",
       "      <td>Commercial associate</td>\n",
       "      <td>Secondary / secondary special</td>\n",
       "      <td>Single / not married</td>\n",
       "      <td>House / apartment</td>\n",
       "      <td>-19110</td>\n",
       "      <td>-3051</td>\n",
       "      <td>1</td>\n",
       "      <td>0</td>\n",
       "      <td>1</td>\n",
       "      <td>1</td>\n",
       "      <td>Sales staff</td>\n",
       "      <td>1.0</td>\n",
       "    </tr>\n",
       "  </tbody>\n",
       "</table>\n",
       "</div>"
      ],
      "text/plain": [
       "        id code_gender flag_own_car flag_own_realty  cnt_children  \\\n",
       "0  5008804           M            Y               Y             0   \n",
       "1  5008805           M            Y               Y             0   \n",
       "2  5008806           M            Y               Y             0   \n",
       "3  5008808           F            N               Y             0   \n",
       "4  5008809           F            N               Y             0   \n",
       "\n",
       "   amt_income_total      name_income_type            name_education_type  \\\n",
       "0          427500.0               Working               Higher education   \n",
       "1          427500.0               Working               Higher education   \n",
       "2          112500.0               Working  Secondary / secondary special   \n",
       "3          270000.0  Commercial associate  Secondary / secondary special   \n",
       "4          270000.0  Commercial associate  Secondary / secondary special   \n",
       "\n",
       "     name_family_status  name_housing_type  days_birth  days_employed  \\\n",
       "0        Civil marriage   Rented apartment      -12005          -4542   \n",
       "1        Civil marriage   Rented apartment      -12005          -4542   \n",
       "2               Married  House / apartment      -21474          -1134   \n",
       "3  Single / not married  House / apartment      -19110          -3051   \n",
       "4  Single / not married  House / apartment      -19110          -3051   \n",
       "\n",
       "   flag_mobil  flag_work_phone  flag_phone  flag_email occupation_type  \\\n",
       "0           1                1           0           0             NaN   \n",
       "1           1                1           0           0             NaN   \n",
       "2           1                0           0           0  Security staff   \n",
       "3           1                0           1           1     Sales staff   \n",
       "4           1                0           1           1     Sales staff   \n",
       "\n",
       "   cnt_fam_members  \n",
       "0              2.0  \n",
       "1              2.0  \n",
       "2              2.0  \n",
       "3              1.0  \n",
       "4              1.0  "
      ]
     },
     "execution_count": 414,
     "metadata": {},
     "output_type": "execute_result"
    }
   ],
   "source": [
    "application_records.head()"
   ]
  },
  {
   "cell_type": "code",
   "execution_count": 415,
   "id": "dfe37491-9b90-466d-98c0-ef411e90f127",
   "metadata": {},
   "outputs": [
    {
     "name": "stdout",
     "output_type": "stream",
     "text": [
      "<class 'pandas.core.frame.DataFrame'>\n",
      "RangeIndex: 438557 entries, 0 to 438556\n",
      "Data columns (total 18 columns):\n",
      " #   Column               Non-Null Count   Dtype  \n",
      "---  ------               --------------   -----  \n",
      " 0   id                   438557 non-null  int64  \n",
      " 1   code_gender          438557 non-null  object \n",
      " 2   flag_own_car         438557 non-null  object \n",
      " 3   flag_own_realty      438557 non-null  object \n",
      " 4   cnt_children         438557 non-null  int64  \n",
      " 5   amt_income_total     438557 non-null  float64\n",
      " 6   name_income_type     438557 non-null  object \n",
      " 7   name_education_type  438557 non-null  object \n",
      " 8   name_family_status   438557 non-null  object \n",
      " 9   name_housing_type    438557 non-null  object \n",
      " 10  days_birth           438557 non-null  int64  \n",
      " 11  days_employed        438557 non-null  int64  \n",
      " 12  flag_mobil           438557 non-null  int64  \n",
      " 13  flag_work_phone      438557 non-null  int64  \n",
      " 14  flag_phone           438557 non-null  int64  \n",
      " 15  flag_email           438557 non-null  int64  \n",
      " 16  occupation_type      304354 non-null  object \n",
      " 17  cnt_fam_members      438557 non-null  float64\n",
      "dtypes: float64(2), int64(8), object(8)\n",
      "memory usage: 60.2+ MB\n"
     ]
    }
   ],
   "source": [
    "# Are the columns in the correct dtype\n",
    "\n",
    "application_records.info()"
   ]
  },
  {
   "cell_type": "markdown",
   "id": "4f4bf209-f3ef-45b5-8bc0-dadf77b3fcba",
   "metadata": {},
   "source": [
    "#### Missing Values "
   ]
  },
  {
   "cell_type": "code",
   "execution_count": 416,
   "id": "3819976b-09de-41d2-839e-4247b52d2f89",
   "metadata": {},
   "outputs": [
    {
     "data": {
      "text/plain": [
       "id                          0\n",
       "code_gender                 0\n",
       "flag_own_car                0\n",
       "flag_own_realty             0\n",
       "cnt_children                0\n",
       "amt_income_total            0\n",
       "name_income_type            0\n",
       "name_education_type         0\n",
       "name_family_status          0\n",
       "name_housing_type           0\n",
       "days_birth                  0\n",
       "days_employed               0\n",
       "flag_mobil                  0\n",
       "flag_work_phone             0\n",
       "flag_phone                  0\n",
       "flag_email                  0\n",
       "occupation_type        134203\n",
       "cnt_fam_members             0\n",
       "dtype: int64"
      ]
     },
     "execution_count": 416,
     "metadata": {},
     "output_type": "execute_result"
    }
   ],
   "source": [
    "application_records.isna().sum()"
   ]
  },
  {
   "cell_type": "code",
   "execution_count": 417,
   "id": "22348130-ad31-40d8-a4de-09313b54fdb5",
   "metadata": {},
   "outputs": [
    {
     "data": {
      "text/plain": [
       "NaN                      134203\n",
       "Laborers                  78240\n",
       "Core staff                43007\n",
       "Sales staff               41098\n",
       "Managers                  35487\n",
       "Drivers                   26090\n",
       "High skill tech staff     17289\n",
       "Accountants               15985\n",
       "Medicine staff            13520\n",
       "Cooking staff              8076\n",
       "Security staff             7993\n",
       "Cleaning staff             5845\n",
       "Private service staff      3456\n",
       "Low-skill Laborers         2140\n",
       "Secretaries                2044\n",
       "Waiters/barmen staff       1665\n",
       "Realty agents              1041\n",
       "HR staff                    774\n",
       "IT staff                    604\n",
       "Name: occupation_type, dtype: int64"
      ]
     },
     "execution_count": 417,
     "metadata": {},
     "output_type": "execute_result"
    }
   ],
   "source": [
    "application_records['occupation_type'].value_counts( dropna = False)"
   ]
  },
  {
   "cell_type": "code",
   "execution_count": 418,
   "id": "a439ffeb-7a07-47fb-84cb-f05160aea740",
   "metadata": {},
   "outputs": [
    {
     "data": {
      "text/plain": [
       "Others                   134203\n",
       "Laborers                  78240\n",
       "Core staff                43007\n",
       "Sales staff               41098\n",
       "Managers                  35487\n",
       "Drivers                   26090\n",
       "High skill tech staff     17289\n",
       "Accountants               15985\n",
       "Medicine staff            13520\n",
       "Cooking staff              8076\n",
       "Security staff             7993\n",
       "Cleaning staff             5845\n",
       "Private service staff      3456\n",
       "Low-skill Laborers         2140\n",
       "Secretaries                2044\n",
       "Waiters/barmen staff       1665\n",
       "Realty agents              1041\n",
       "HR staff                    774\n",
       "IT staff                    604\n",
       "Name: occupation_type, dtype: int64"
      ]
     },
     "execution_count": 418,
     "metadata": {},
     "output_type": "execute_result"
    }
   ],
   "source": [
    "# Fill Missing Values: \n",
    "\n",
    "application_records['occupation_type'] = application_records['occupation_type'].fillna('Others')\n",
    "application_records['occupation_type'].value_counts( dropna = False)"
   ]
  },
  {
   "cell_type": "markdown",
   "id": "c3f364b2-f3b0-429d-9f91-897e84bfe490",
   "metadata": {},
   "source": [
    "### Categorical Values: "
   ]
  },
  {
   "cell_type": "code",
   "execution_count": 419,
   "id": "ef7ab9f8-3f44-4fb1-9c02-65e96af0a379",
   "metadata": {},
   "outputs": [
    {
     "data": {
      "text/html": [
       "<div>\n",
       "<style scoped>\n",
       "    .dataframe tbody tr th:only-of-type {\n",
       "        vertical-align: middle;\n",
       "    }\n",
       "\n",
       "    .dataframe tbody tr th {\n",
       "        vertical-align: top;\n",
       "    }\n",
       "\n",
       "    .dataframe thead th {\n",
       "        text-align: right;\n",
       "    }\n",
       "</style>\n",
       "<table border=\"1\" class=\"dataframe\">\n",
       "  <thead>\n",
       "    <tr style=\"text-align: right;\">\n",
       "      <th></th>\n",
       "      <th>code_gender</th>\n",
       "      <th>flag_own_car</th>\n",
       "      <th>flag_own_realty</th>\n",
       "      <th>name_income_type</th>\n",
       "      <th>name_education_type</th>\n",
       "      <th>name_family_status</th>\n",
       "      <th>name_housing_type</th>\n",
       "      <th>occupation_type</th>\n",
       "    </tr>\n",
       "  </thead>\n",
       "  <tbody>\n",
       "    <tr>\n",
       "      <th>0</th>\n",
       "      <td>M</td>\n",
       "      <td>Y</td>\n",
       "      <td>Y</td>\n",
       "      <td>Working</td>\n",
       "      <td>Higher education</td>\n",
       "      <td>Civil marriage</td>\n",
       "      <td>Rented apartment</td>\n",
       "      <td>Others</td>\n",
       "    </tr>\n",
       "    <tr>\n",
       "      <th>1</th>\n",
       "      <td>M</td>\n",
       "      <td>Y</td>\n",
       "      <td>Y</td>\n",
       "      <td>Working</td>\n",
       "      <td>Higher education</td>\n",
       "      <td>Civil marriage</td>\n",
       "      <td>Rented apartment</td>\n",
       "      <td>Others</td>\n",
       "    </tr>\n",
       "    <tr>\n",
       "      <th>2</th>\n",
       "      <td>M</td>\n",
       "      <td>Y</td>\n",
       "      <td>Y</td>\n",
       "      <td>Working</td>\n",
       "      <td>Secondary / secondary special</td>\n",
       "      <td>Married</td>\n",
       "      <td>House / apartment</td>\n",
       "      <td>Security staff</td>\n",
       "    </tr>\n",
       "    <tr>\n",
       "      <th>3</th>\n",
       "      <td>F</td>\n",
       "      <td>N</td>\n",
       "      <td>Y</td>\n",
       "      <td>Commercial associate</td>\n",
       "      <td>Secondary / secondary special</td>\n",
       "      <td>Single / not married</td>\n",
       "      <td>House / apartment</td>\n",
       "      <td>Sales staff</td>\n",
       "    </tr>\n",
       "    <tr>\n",
       "      <th>4</th>\n",
       "      <td>F</td>\n",
       "      <td>N</td>\n",
       "      <td>Y</td>\n",
       "      <td>Commercial associate</td>\n",
       "      <td>Secondary / secondary special</td>\n",
       "      <td>Single / not married</td>\n",
       "      <td>House / apartment</td>\n",
       "      <td>Sales staff</td>\n",
       "    </tr>\n",
       "  </tbody>\n",
       "</table>\n",
       "</div>"
      ],
      "text/plain": [
       "  code_gender flag_own_car flag_own_realty      name_income_type  \\\n",
       "0           M            Y               Y               Working   \n",
       "1           M            Y               Y               Working   \n",
       "2           M            Y               Y               Working   \n",
       "3           F            N               Y  Commercial associate   \n",
       "4           F            N               Y  Commercial associate   \n",
       "\n",
       "             name_education_type    name_family_status  name_housing_type  \\\n",
       "0               Higher education        Civil marriage   Rented apartment   \n",
       "1               Higher education        Civil marriage   Rented apartment   \n",
       "2  Secondary / secondary special               Married  House / apartment   \n",
       "3  Secondary / secondary special  Single / not married  House / apartment   \n",
       "4  Secondary / secondary special  Single / not married  House / apartment   \n",
       "\n",
       "  occupation_type  \n",
       "0          Others  \n",
       "1          Others  \n",
       "2  Security staff  \n",
       "3     Sales staff  \n",
       "4     Sales staff  "
      ]
     },
     "execution_count": 419,
     "metadata": {},
     "output_type": "execute_result"
    }
   ],
   "source": [
    "application_cat = application_records.select_dtypes('object')\n",
    "application_cat.head()"
   ]
  },
  {
   "cell_type": "markdown",
   "id": "3b5f36cc-4176-4cbd-9c8c-d280cbebd06f",
   "metadata": {},
   "source": [
    "#### Reducing & Mergin Classes"
   ]
  },
  {
   "cell_type": "code",
   "execution_count": 420,
   "id": "bd920371-3ec8-4d05-a008-f22862999a7a",
   "metadata": {},
   "outputs": [
    {
     "data": {
      "text/plain": [
       "code_gender             2\n",
       "flag_own_car            2\n",
       "flag_own_realty         2\n",
       "name_income_type        5\n",
       "name_education_type     5\n",
       "name_family_status      5\n",
       "name_housing_type       6\n",
       "occupation_type        19\n",
       "dtype: int64"
      ]
     },
     "execution_count": 420,
     "metadata": {},
     "output_type": "execute_result"
    }
   ],
   "source": [
    "# checking for the amount of classes in each feature\n",
    "application_cat.nunique()"
   ]
  },
  {
   "cell_type": "code",
   "execution_count": 421,
   "id": "7a883c5b-e62a-4b05-a5cf-1dbc1f058f08",
   "metadata": {},
   "outputs": [
    {
     "data": {
      "text/plain": [
       "Working                 226104\n",
       "Commercial associate    100757\n",
       "Pensioner                75493\n",
       "State servant            36186\n",
       "Student                     17\n",
       "Name: name_income_type, dtype: int64"
      ]
     },
     "execution_count": 421,
     "metadata": {},
     "output_type": "execute_result"
    }
   ],
   "source": [
    "# checking the frequency of classes in INCOME TYPE\n",
    "application_cat['name_income_type'].value_counts()"
   ]
  },
  {
   "cell_type": "code",
   "execution_count": 422,
   "id": "e7d91342-6c2b-4e11-82b4-c9e073dbcfca",
   "metadata": {},
   "outputs": [
    {
     "name": "stderr",
     "output_type": "stream",
     "text": [
      "/Users/steib/opt/anaconda3/lib/python3.9/site-packages/pandas/core/indexing.py:1732: SettingWithCopyWarning: \n",
      "A value is trying to be set on a copy of a slice from a DataFrame\n",
      "\n",
      "See the caveats in the documentation: https://pandas.pydata.org/pandas-docs/stable/user_guide/indexing.html#returning-a-view-versus-a-copy\n",
      "  self._setitem_single_block(indexer, value, name)\n",
      "/Users/steib/opt/anaconda3/lib/python3.9/site-packages/pandas/core/indexing.py:723: SettingWithCopyWarning: \n",
      "A value is trying to be set on a copy of a slice from a DataFrame\n",
      "\n",
      "See the caveats in the documentation: https://pandas.pydata.org/pandas-docs/stable/user_guide/indexing.html#returning-a-view-versus-a-copy\n",
      "  iloc._setitem_with_indexer(indexer, value, self.name)\n"
     ]
    },
    {
     "data": {
      "text/plain": [
       "Working                 226104\n",
       "Commercial associate    100757\n",
       "Others                   75510\n",
       "State servant            36186\n",
       "Name: name_income_type, dtype: int64"
      ]
     },
     "execution_count": 422,
     "metadata": {},
     "output_type": "execute_result"
    }
   ],
   "source": [
    "# I will merge 'Student' and 'Pensioner' \n",
    "\n",
    "application_cat.loc[(application_cat['name_income_type'] == 'Student') | (application_cat['name_income_type'] == 'Pensioner'), 'name_income_type'] = 'Others'\n",
    "application_cat['name_income_type'].value_counts()\n"
   ]
  },
  {
   "cell_type": "code",
   "execution_count": 423,
   "id": "c2a8e984-5524-4e89-a795-b285f74536a1",
   "metadata": {},
   "outputs": [
    {
     "data": {
      "text/plain": [
       "Secondary / secondary special    301821\n",
       "Higher education                 117522\n",
       "Incomplete higher                 14851\n",
       "Lower secondary                    4051\n",
       "Academic degree                     312\n",
       "Name: name_education_type, dtype: int64"
      ]
     },
     "execution_count": 423,
     "metadata": {},
     "output_type": "execute_result"
    }
   ],
   "source": [
    "# checking the frequency of classes in INCOME TYPE\n",
    "application_cat['name_education_type'].value_counts()"
   ]
  },
  {
   "cell_type": "code",
   "execution_count": 424,
   "id": "12f13218-b2a6-44bb-b830-4291f35786c0",
   "metadata": {},
   "outputs": [
    {
     "data": {
      "text/plain": [
       "Secondary education    305872\n",
       "Higher education       117834\n",
       "Incomplete higher       14851\n",
       "Name: name_education_type, dtype: int64"
      ]
     },
     "execution_count": 424,
     "metadata": {},
     "output_type": "execute_result"
    }
   ],
   "source": [
    "# I will merge all classes containing 'SECONDARY' and 'HIGHER' \n",
    "\n",
    "application_cat.loc[(application_cat['name_education_type'] == 'Lower secondary') | (application_cat['name_education_type'] == 'Secondary / secondary special'), 'name_education_type'] = 'Secondary education'\n",
    "application_cat.loc[(application_cat['name_education_type'] == 'Academic degree'), 'name_education_type'] = 'Higher education'\n",
    "application_cat['name_education_type'].value_counts()"
   ]
  },
  {
   "cell_type": "code",
   "execution_count": 425,
   "id": "af5561dd-5c7a-4dcb-bfc9-2f14301b15ea",
   "metadata": {},
   "outputs": [
    {
     "data": {
      "text/plain": [
       "Married                 299828\n",
       "Single / not married     55271\n",
       "Civil marriage           36532\n",
       "Separated                27251\n",
       "Widow                    19675\n",
       "Name: name_family_status, dtype: int64"
      ]
     },
     "execution_count": 425,
     "metadata": {},
     "output_type": "execute_result"
    }
   ],
   "source": [
    "# checking frequency of classes in FAMILY STATUS\n",
    "application_cat['name_family_status'].value_counts()"
   ]
  },
  {
   "cell_type": "code",
   "execution_count": 426,
   "id": "b27c0d55-f9af-439d-b24d-90456064b1d5",
   "metadata": {},
   "outputs": [
    {
     "data": {
      "text/plain": [
       "Married        336360\n",
       "Not Married    102197\n",
       "Name: name_family_status, dtype: int64"
      ]
     },
     "execution_count": 426,
     "metadata": {},
     "output_type": "execute_result"
    }
   ],
   "source": [
    "# I will group to 2 classes 'Married' and 'Not Married'\n",
    "application_cat.loc[(application_cat['name_family_status'] == 'Civil marriage'), 'name_family_status'] = 'Married'\n",
    "application_cat.loc[(application_cat['name_family_status'] != 'Married'), 'name_family_status'] = 'Not Married'\n",
    "application_cat['name_family_status'].value_counts()"
   ]
  },
  {
   "cell_type": "code",
   "execution_count": 427,
   "id": "7aab3dc8-90fe-41a2-99df-cd1e72d676d5",
   "metadata": {},
   "outputs": [
    {
     "data": {
      "text/plain": [
       "House / apartment      393831\n",
       "With parents            19077\n",
       "Municipal apartment     14214\n",
       "Rented apartment         5974\n",
       "Office apartment         3922\n",
       "Co-op apartment          1539\n",
       "Name: name_housing_type, dtype: int64"
      ]
     },
     "execution_count": 427,
     "metadata": {},
     "output_type": "execute_result"
    }
   ],
   "source": [
    "# checking frequency of classes in HOUSING TYPE\n",
    "application_cat['name_housing_type'].value_counts()"
   ]
  },
  {
   "cell_type": "code",
   "execution_count": 435,
   "id": "3a6b46df-fafd-4f6a-aa47-b67a3ed75919",
   "metadata": {},
   "outputs": [
    {
     "data": {
      "text/plain": [
       "House / apartment    393831\n",
       "Rented apartment      25649\n",
       "With parents          19077\n",
       "Name: name_housing_type, dtype: int64"
      ]
     },
     "execution_count": 435,
     "metadata": {},
     "output_type": "execute_result"
    }
   ],
   "source": [
    "application_cat.loc[(application_cat['name_housing_type'] == 'Municipal apartment') | (application_cat['name_housing_type'] == 'Office apartment') |\n",
    "                    (application_cat['name_housing_type'] == 'Office apartment') | \n",
    "                    (application_cat['name_housing_type'] == 'Co-op apartment'), 'name_housing_type'] = 'Rented apartment'\n",
    "\n",
    "application_cat['name_housing_type'].value_counts()"
   ]
  },
  {
   "cell_type": "code",
   "execution_count": 428,
   "id": "775140e7-2414-4a17-b569-5d67172f2a77",
   "metadata": {},
   "outputs": [
    {
     "data": {
      "text/plain": [
       "Others                   134203\n",
       "Laborers                  78240\n",
       "Core staff                43007\n",
       "Sales staff               41098\n",
       "Managers                  35487\n",
       "Drivers                   26090\n",
       "High skill tech staff     17289\n",
       "Accountants               15985\n",
       "Medicine staff            13520\n",
       "Cooking staff              8076\n",
       "Security staff             7993\n",
       "Cleaning staff             5845\n",
       "Private service staff      3456\n",
       "Low-skill Laborers         2140\n",
       "Secretaries                2044\n",
       "Waiters/barmen staff       1665\n",
       "Realty agents              1041\n",
       "HR staff                    774\n",
       "IT staff                    604\n",
       "Name: occupation_type, dtype: int64"
      ]
     },
     "execution_count": 428,
     "metadata": {},
     "output_type": "execute_result"
    }
   ],
   "source": [
    "# checking frequency of classes in OCCUPATION\n",
    "application_cat['occupation_type'].value_counts()"
   ]
  },
  {
   "cell_type": "code",
   "execution_count": 445,
   "id": "d617c53d-fb05-4371-8702-4080c9173d2f",
   "metadata": {},
   "outputs": [
    {
     "name": "stderr",
     "output_type": "stream",
     "text": [
      "/Users/steib/opt/anaconda3/lib/python3.9/site-packages/pandas/core/indexing.py:1732: SettingWithCopyWarning: \n",
      "A value is trying to be set on a copy of a slice from a DataFrame\n",
      "\n",
      "See the caveats in the documentation: https://pandas.pydata.org/pandas-docs/stable/user_guide/indexing.html#returning-a-view-versus-a-copy\n",
      "  self._setitem_single_block(indexer, value, name)\n",
      "/Users/steib/opt/anaconda3/lib/python3.9/site-packages/pandas/core/indexing.py:723: SettingWithCopyWarning: \n",
      "A value is trying to be set on a copy of a slice from a DataFrame\n",
      "\n",
      "See the caveats in the documentation: https://pandas.pydata.org/pandas-docs/stable/user_guide/indexing.html#returning-a-view-versus-a-copy\n",
      "  iloc._setitem_with_indexer(indexer, value, self.name)\n"
     ]
    },
    {
     "data": {
      "text/plain": [
       "Laborers      195051\n",
       "Others        134203\n",
       "Core staff    109303\n",
       "Name: occupation_type, dtype: int64"
      ]
     },
     "execution_count": 445,
     "metadata": {},
     "output_type": "execute_result"
    }
   ],
   "source": [
    "# Grouping into 3 classes: Others, Laborers, Core Staff\n",
    "\n",
    "\n",
    "application_cat.loc[(application_cat['occupation_type'] == 'Drivers') | (application_cat['occupation_type'] == 'Cooking staff') | \n",
    "                    (application_cat['occupation_type'] == 'Security staff') | (application_cat['occupation_type'] == 'Cleaning staff') |\n",
    "                    (application_cat['occupation_type'] == 'Private service staff') | (application_cat['occupation_type'] == 'Low-skill Laborers') |\n",
    "                    (application_cat['occupation_type'] == 'Waiters/barmen staff'), 'occupation_type'] = 'Laborers'\n",
    "\n",
    "application_cat.loc[(application_cat['occupation_type'] == 'IT staff') | (application_cat['occupation_type'] == 'Sales staff') |\n",
    "                    (application_cat['occupation_type'] == 'HR staff') | (application_cat['occupation_type'] == 'Secretaries') |\n",
    "                    (application_cat['occupation_type'] == 'Realty agents') | (application_cat['occupation_type'] == 'Accountants'), 'occupation_type'] = 'Laborers'\n",
    "\n",
    "application_cat.loc[(application_cat['occupation_type'] == 'Core staff') | (application_cat['occupation_type'] == 'Managers') |\n",
    "                    (application_cat['occupation_type'] == 'High skill tech staff') | \n",
    "                    (application_cat['occupation_type'] == 'Medicine staff'), 'occupation_type'] = 'Core staff'\n",
    "\n",
    "application_cat['occupation_type'].value_counts()"
   ]
  },
  {
   "cell_type": "markdown",
   "id": "2a897017-ad17-47fb-95c7-b552edce68b8",
   "metadata": {},
   "source": [
    "#### Two-sample T-Test\n",
    "I want to check if my classes in Occupation makes sense: Therefore i will test if there is a difference between the incomes in the groups. \n",
    "\n",
    "**Assumption: if the classification is correct, than this should be reflected in the income.** I want to see, if Core Staff has higher pay than the rest. \n",
    "\n",
    "TWO SAMPLE RIGHT TAIL T-TEST:\n",
    "\n",
    "-  H0: There is no difference between the income mean \n",
    "-  H1: The income mean of the Core Staff is higher\n",
    "-  lambda: 0.05\n",
    "\n",
    "\n",
    "\n",
    "\n"
   ]
  },
  {
   "cell_type": "code",
   "execution_count": 460,
   "id": "930ff969-cc0f-4d1b-8d9a-7827aa2bd397",
   "metadata": {},
   "outputs": [
    {
     "name": "stdout",
     "output_type": "stream",
     "text": [
      "8173956754.211781 20955220287.206646\n",
      "The Ratio of both sample variances is 2.56 which is smaller than 4:1\n",
      "We can assume that the variances are the same\n",
      "\n",
      "The income mean of Core Staff 218462 is bigger than the income mean of the others group 170870\n",
      "\n",
      "The p-value is very small: The income seems to be signficantly different from each other\n"
     ]
    }
   ],
   "source": [
    "# CHECK IF VARIANCES ARE EQUAL. IF LARGE TO SMALL RATIO IS < 4:1\n",
    "\n",
    "# EQUALE VARIANCE:\n",
    "\n",
    "income_core = application_records.loc[(application_cat['occupation_type'] == 'Core staff') | (application_cat['occupation_type'] == 'Managers') |\n",
    "                    (application_cat['occupation_type'] == 'High skill tech staff') | \n",
    "                    (application_cat['occupation_type'] == 'Medicine staff'), 'amt_income_total']\n",
    "\n",
    "income_others = application_records.loc[(application_cat['occupation_type'] == 'Others') | (application_cat['occupation_type'] == 'Drivers') | (application_cat['occupation_type'] == 'Cooking staff') | \n",
    "                    (application_cat['occupation_type'] == 'Security staff') | (application_cat['occupation_type'] == 'Cleaning staff') |\n",
    "                    (application_cat['occupation_type'] == 'Private service staff') | (application_cat['occupation_type'] == 'Low-skill Laborers') |\n",
    "                    (application_cat['occupation_type'] == 'Waiters/barmen staff') | (application_cat['occupation_type'] == 'IT staff') | (application_cat['occupation_type'] == 'Sales staff') |\n",
    "                    (application_cat['occupation_type'] == 'HR staff') | (application_cat['occupation_type'] == 'Secretaries') |\n",
    "                    (application_cat['occupation_type'] == 'Realty agents') | (application_cat['occupation_type'] == 'Accountants'), 'amt_income_total']\n",
    "\n",
    "print(np.var(income_others), np.var(income_core))\n",
    "print('The Ratio of both sample variances is {:.2f} which is smaller than 4:1'.format(np.var(income_core)/np.var(income_others)))\n",
    "print('We can assume that the variances are the same')\n",
    "\n",
    "\n",
    "# CALCULATING THE MEANS:\n",
    "\n",
    "bar_core = round(np.mean(income_core))\n",
    "bar_others = round(np.mean(income_others))\n",
    "\n",
    "print()\n",
    "print('The income mean of Core Staff {} is bigger than the income mean of the others group {}'.format(bar_core, bar_others))\n",
    "\n",
    "\n",
    "# PERFORMING TWO SAMPLE T-TEST:\n",
    "\n",
    "from scipy.stats import ttest_ind\n",
    "\n",
    "ttest_ind(a=income_core, b=income_others, equal_var=True)\n",
    "\n",
    "print()\n",
    "print('The p-value is very small: The income seems to be signficantly different from each other')\n"
   ]
  },
  {
   "cell_type": "markdown",
   "id": "9b2c159a-a949-4a38-b074-69ec854724ab",
   "metadata": {},
   "source": [
    "#### Encoding Categorical Features"
   ]
  },
  {
   "cell_type": "code",
   "execution_count": 463,
   "id": "5f2f93f8-e631-4b23-868b-14fc209d8167",
   "metadata": {},
   "outputs": [
    {
     "name": "stderr",
     "output_type": "stream",
     "text": [
      "/var/folders/dj/n16zrnc50j79vq_pt7btwyg40000gn/T/ipykernel_15583/2498995728.py:3: SettingWithCopyWarning: \n",
      "A value is trying to be set on a copy of a slice from a DataFrame.\n",
      "Try using .loc[row_indexer,col_indexer] = value instead\n",
      "\n",
      "See the caveats in the documentation: https://pandas.pydata.org/pandas-docs/stable/user_guide/indexing.html#returning-a-view-versus-a-copy\n",
      "  application_cat['flag_own_car'] = application_cat['flag_own_car'].replace({'Y':1, 'N':0})\n"
     ]
    }
   ],
   "source": [
    "# Binary Features\n",
    "\n",
    "application_cat['flag_own_car'] = application_cat['flag_own_car'].replace({'Y':1, 'N':0})\n",
    "\n",
    "application_cat.loc[(application_cat['flag_own_realty'] ==]"
   ]
  },
  {
   "cell_type": "code",
   "execution_count": 462,
   "id": "0c90e825-014d-480e-9df0-9b242a15612c",
   "metadata": {},
   "outputs": [
    {
     "data": {
      "text/html": [
       "<div>\n",
       "<style scoped>\n",
       "    .dataframe tbody tr th:only-of-type {\n",
       "        vertical-align: middle;\n",
       "    }\n",
       "\n",
       "    .dataframe tbody tr th {\n",
       "        vertical-align: top;\n",
       "    }\n",
       "\n",
       "    .dataframe thead th {\n",
       "        text-align: right;\n",
       "    }\n",
       "</style>\n",
       "<table border=\"1\" class=\"dataframe\">\n",
       "  <thead>\n",
       "    <tr style=\"text-align: right;\">\n",
       "      <th></th>\n",
       "      <th>code_gender</th>\n",
       "      <th>flag_own_car</th>\n",
       "      <th>flag_own_realty</th>\n",
       "      <th>name_income_type</th>\n",
       "      <th>name_education_type</th>\n",
       "      <th>name_family_status</th>\n",
       "      <th>name_housing_type</th>\n",
       "      <th>occupation_type</th>\n",
       "    </tr>\n",
       "  </thead>\n",
       "  <tbody>\n",
       "    <tr>\n",
       "      <th>0</th>\n",
       "      <td>M</td>\n",
       "      <td>Y</td>\n",
       "      <td>Y</td>\n",
       "      <td>Working</td>\n",
       "      <td>Higher education</td>\n",
       "      <td>Married</td>\n",
       "      <td>Rented apartment</td>\n",
       "      <td>Others</td>\n",
       "    </tr>\n",
       "    <tr>\n",
       "      <th>1</th>\n",
       "      <td>M</td>\n",
       "      <td>Y</td>\n",
       "      <td>Y</td>\n",
       "      <td>Working</td>\n",
       "      <td>Higher education</td>\n",
       "      <td>Married</td>\n",
       "      <td>Rented apartment</td>\n",
       "      <td>Others</td>\n",
       "    </tr>\n",
       "    <tr>\n",
       "      <th>2</th>\n",
       "      <td>M</td>\n",
       "      <td>Y</td>\n",
       "      <td>Y</td>\n",
       "      <td>Working</td>\n",
       "      <td>Secondary education</td>\n",
       "      <td>Married</td>\n",
       "      <td>House / apartment</td>\n",
       "      <td>Laborers</td>\n",
       "    </tr>\n",
       "    <tr>\n",
       "      <th>3</th>\n",
       "      <td>F</td>\n",
       "      <td>N</td>\n",
       "      <td>Y</td>\n",
       "      <td>Commercial associate</td>\n",
       "      <td>Secondary education</td>\n",
       "      <td>Not Married</td>\n",
       "      <td>House / apartment</td>\n",
       "      <td>Laborers</td>\n",
       "    </tr>\n",
       "    <tr>\n",
       "      <th>4</th>\n",
       "      <td>F</td>\n",
       "      <td>N</td>\n",
       "      <td>Y</td>\n",
       "      <td>Commercial associate</td>\n",
       "      <td>Secondary education</td>\n",
       "      <td>Not Married</td>\n",
       "      <td>House / apartment</td>\n",
       "      <td>Laborers</td>\n",
       "    </tr>\n",
       "    <tr>\n",
       "      <th>...</th>\n",
       "      <td>...</td>\n",
       "      <td>...</td>\n",
       "      <td>...</td>\n",
       "      <td>...</td>\n",
       "      <td>...</td>\n",
       "      <td>...</td>\n",
       "      <td>...</td>\n",
       "      <td>...</td>\n",
       "    </tr>\n",
       "    <tr>\n",
       "      <th>438552</th>\n",
       "      <td>M</td>\n",
       "      <td>N</td>\n",
       "      <td>Y</td>\n",
       "      <td>Others</td>\n",
       "      <td>Secondary education</td>\n",
       "      <td>Not Married</td>\n",
       "      <td>House / apartment</td>\n",
       "      <td>Others</td>\n",
       "    </tr>\n",
       "    <tr>\n",
       "      <th>438553</th>\n",
       "      <td>F</td>\n",
       "      <td>N</td>\n",
       "      <td>N</td>\n",
       "      <td>Working</td>\n",
       "      <td>Secondary education</td>\n",
       "      <td>Not Married</td>\n",
       "      <td>House / apartment</td>\n",
       "      <td>Laborers</td>\n",
       "    </tr>\n",
       "    <tr>\n",
       "      <th>438554</th>\n",
       "      <td>F</td>\n",
       "      <td>N</td>\n",
       "      <td>N</td>\n",
       "      <td>Commercial associate</td>\n",
       "      <td>Higher education</td>\n",
       "      <td>Not Married</td>\n",
       "      <td>With parents</td>\n",
       "      <td>Laborers</td>\n",
       "    </tr>\n",
       "    <tr>\n",
       "      <th>438555</th>\n",
       "      <td>F</td>\n",
       "      <td>N</td>\n",
       "      <td>Y</td>\n",
       "      <td>Others</td>\n",
       "      <td>Secondary education</td>\n",
       "      <td>Married</td>\n",
       "      <td>House / apartment</td>\n",
       "      <td>Others</td>\n",
       "    </tr>\n",
       "    <tr>\n",
       "      <th>438556</th>\n",
       "      <td>F</td>\n",
       "      <td>N</td>\n",
       "      <td>Y</td>\n",
       "      <td>Working</td>\n",
       "      <td>Secondary education</td>\n",
       "      <td>Married</td>\n",
       "      <td>House / apartment</td>\n",
       "      <td>Laborers</td>\n",
       "    </tr>\n",
       "  </tbody>\n",
       "</table>\n",
       "<p>438557 rows × 8 columns</p>\n",
       "</div>"
      ],
      "text/plain": [
       "       code_gender flag_own_car flag_own_realty      name_income_type  \\\n",
       "0                M            Y               Y               Working   \n",
       "1                M            Y               Y               Working   \n",
       "2                M            Y               Y               Working   \n",
       "3                F            N               Y  Commercial associate   \n",
       "4                F            N               Y  Commercial associate   \n",
       "...            ...          ...             ...                   ...   \n",
       "438552           M            N               Y                Others   \n",
       "438553           F            N               N               Working   \n",
       "438554           F            N               N  Commercial associate   \n",
       "438555           F            N               Y                Others   \n",
       "438556           F            N               Y               Working   \n",
       "\n",
       "        name_education_type name_family_status  name_housing_type  \\\n",
       "0          Higher education            Married   Rented apartment   \n",
       "1          Higher education            Married   Rented apartment   \n",
       "2       Secondary education            Married  House / apartment   \n",
       "3       Secondary education        Not Married  House / apartment   \n",
       "4       Secondary education        Not Married  House / apartment   \n",
       "...                     ...                ...                ...   \n",
       "438552  Secondary education        Not Married  House / apartment   \n",
       "438553  Secondary education        Not Married  House / apartment   \n",
       "438554     Higher education        Not Married       With parents   \n",
       "438555  Secondary education            Married  House / apartment   \n",
       "438556  Secondary education            Married  House / apartment   \n",
       "\n",
       "       occupation_type  \n",
       "0               Others  \n",
       "1               Others  \n",
       "2             Laborers  \n",
       "3             Laborers  \n",
       "4             Laborers  \n",
       "...                ...  \n",
       "438552          Others  \n",
       "438553        Laborers  \n",
       "438554        Laborers  \n",
       "438555          Others  \n",
       "438556        Laborers  \n",
       "\n",
       "[438557 rows x 8 columns]"
      ]
     },
     "execution_count": 462,
     "metadata": {},
     "output_type": "execute_result"
    }
   ],
   "source": [
    "application_cat"
   ]
  },
  {
   "cell_type": "code",
   "execution_count": null,
   "id": "33fd6327-cb51-47b9-b9f2-24d0a23fa3eb",
   "metadata": {},
   "outputs": [],
   "source": []
  },
  {
   "cell_type": "code",
   "execution_count": null,
   "id": "85e99f8b-ba56-40b5-bd32-a608707d9df7",
   "metadata": {},
   "outputs": [],
   "source": []
  },
  {
   "cell_type": "markdown",
   "id": "cbea7279-6b17-45cc-905b-0b0d375a55d1",
   "metadata": {
    "tags": []
   },
   "source": [
    "### Numerical Values: "
   ]
  },
  {
   "cell_type": "code",
   "execution_count": null,
   "id": "f39c1029-af10-414f-84e0-0c12024278d4",
   "metadata": {},
   "outputs": [],
   "source": [
    "application_num = application_records.select_dtypes(np.number)\n",
    "application_num.head()"
   ]
  },
  {
   "cell_type": "markdown",
   "id": "e8f21e3c-afa3-45e2-9f1c-056e1b207872",
   "metadata": {},
   "source": [
    "# NEXT STEPS: \n",
    "\n",
    "1) encode categorical values\n",
    "2) clean numeric data\n",
    "\n",
    "3) Check Mulitcoliniearity and clean out with VIF - Variance Inflation Factor"
   ]
  },
  {
   "cell_type": "code",
   "execution_count": null,
   "id": "f8d524e5-8745-416e-92a8-4092c5ed1a02",
   "metadata": {},
   "outputs": [],
   "source": []
  }
 ],
 "metadata": {
  "kernelspec": {
   "display_name": "Python 3 (ipykernel)",
   "language": "python",
   "name": "python3"
  },
  "language_info": {
   "codemirror_mode": {
    "name": "ipython",
    "version": 3
   },
   "file_extension": ".py",
   "mimetype": "text/x-python",
   "name": "python",
   "nbconvert_exporter": "python",
   "pygments_lexer": "ipython3",
   "version": "3.9.7"
  }
 },
 "nbformat": 4,
 "nbformat_minor": 5
}
